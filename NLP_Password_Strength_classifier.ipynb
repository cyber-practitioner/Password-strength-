{
 "cells": [
  {
   "cell_type": "code",
   "execution_count": 1,
   "metadata": {},
   "outputs": [],
   "source": [
    "import pandas as pd\n",
    "import numpy as np\n",
    "import seaborn as sns\n",
    "import warnings\n",
    "warnings.filterwarnings('ignore')\n",
    "import matplotlib as mt\n",
    "import matplotlib.pyplot as plt\n",
    "from sklearn.metrics import confusion_matrix,accuracy_score"
   ]
  },
  {
   "cell_type": "markdown",
   "metadata": {},
   "source": [
    "#### REading dataset"
   ]
  },
  {
   "cell_type": "code",
   "execution_count": 2,
   "metadata": {},
   "outputs": [
    {
     "name": "stderr",
     "output_type": "stream",
     "text": [
      "b'Skipping line 2810: expected 2 fields, saw 5\\nSkipping line 4641: expected 2 fields, saw 5\\nSkipping line 7171: expected 2 fields, saw 5\\nSkipping line 11220: expected 2 fields, saw 5\\nSkipping line 13809: expected 2 fields, saw 5\\nSkipping line 14132: expected 2 fields, saw 5\\nSkipping line 14293: expected 2 fields, saw 5\\nSkipping line 14865: expected 2 fields, saw 5\\nSkipping line 17419: expected 2 fields, saw 5\\nSkipping line 22801: expected 2 fields, saw 5\\nSkipping line 25001: expected 2 fields, saw 5\\nSkipping line 26603: expected 2 fields, saw 5\\nSkipping line 26742: expected 2 fields, saw 5\\nSkipping line 29702: expected 2 fields, saw 5\\nSkipping line 32767: expected 2 fields, saw 5\\nSkipping line 32878: expected 2 fields, saw 5\\nSkipping line 35643: expected 2 fields, saw 5\\nSkipping line 36550: expected 2 fields, saw 5\\nSkipping line 38732: expected 2 fields, saw 5\\nSkipping line 40567: expected 2 fields, saw 5\\nSkipping line 40576: expected 2 fields, saw 5\\nSkipping line 41864: expected 2 fields, saw 5\\nSkipping line 46861: expected 2 fields, saw 5\\nSkipping line 47939: expected 2 fields, saw 5\\nSkipping line 48628: expected 2 fields, saw 5\\nSkipping line 48908: expected 2 fields, saw 5\\nSkipping line 57582: expected 2 fields, saw 5\\nSkipping line 58782: expected 2 fields, saw 5\\nSkipping line 58984: expected 2 fields, saw 5\\nSkipping line 61518: expected 2 fields, saw 5\\nSkipping line 63451: expected 2 fields, saw 5\\nSkipping line 68141: expected 2 fields, saw 5\\nSkipping line 72083: expected 2 fields, saw 5\\nSkipping line 74027: expected 2 fields, saw 5\\nSkipping line 77811: expected 2 fields, saw 5\\nSkipping line 83958: expected 2 fields, saw 5\\nSkipping line 85295: expected 2 fields, saw 5\\nSkipping line 88665: expected 2 fields, saw 5\\nSkipping line 89198: expected 2 fields, saw 5\\nSkipping line 92499: expected 2 fields, saw 5\\nSkipping line 92751: expected 2 fields, saw 5\\nSkipping line 93689: expected 2 fields, saw 5\\nSkipping line 94776: expected 2 fields, saw 5\\nSkipping line 97334: expected 2 fields, saw 5\\nSkipping line 102316: expected 2 fields, saw 5\\nSkipping line 103421: expected 2 fields, saw 5\\nSkipping line 106872: expected 2 fields, saw 5\\nSkipping line 109363: expected 2 fields, saw 5\\nSkipping line 110117: expected 2 fields, saw 5\\nSkipping line 110465: expected 2 fields, saw 5\\nSkipping line 113843: expected 2 fields, saw 5\\nSkipping line 115634: expected 2 fields, saw 5\\nSkipping line 121518: expected 2 fields, saw 5\\nSkipping line 123692: expected 2 fields, saw 5\\nSkipping line 124708: expected 2 fields, saw 5\\nSkipping line 129608: expected 2 fields, saw 5\\nSkipping line 133176: expected 2 fields, saw 5\\nSkipping line 135532: expected 2 fields, saw 5\\nSkipping line 138042: expected 2 fields, saw 5\\nSkipping line 139485: expected 2 fields, saw 5\\nSkipping line 140401: expected 2 fields, saw 5\\nSkipping line 144093: expected 2 fields, saw 5\\nSkipping line 149850: expected 2 fields, saw 5\\nSkipping line 151831: expected 2 fields, saw 5\\nSkipping line 158014: expected 2 fields, saw 5\\nSkipping line 162047: expected 2 fields, saw 5\\nSkipping line 164515: expected 2 fields, saw 5\\nSkipping line 170313: expected 2 fields, saw 5\\nSkipping line 171325: expected 2 fields, saw 5\\nSkipping line 171424: expected 2 fields, saw 5\\nSkipping line 175920: expected 2 fields, saw 5\\nSkipping line 176210: expected 2 fields, saw 5\\nSkipping line 183603: expected 2 fields, saw 5\\nSkipping line 190264: expected 2 fields, saw 5\\nSkipping line 191683: expected 2 fields, saw 5\\nSkipping line 191988: expected 2 fields, saw 5\\nSkipping line 195450: expected 2 fields, saw 5\\nSkipping line 195754: expected 2 fields, saw 5\\nSkipping line 197124: expected 2 fields, saw 5\\nSkipping line 199263: expected 2 fields, saw 5\\nSkipping line 202603: expected 2 fields, saw 5\\nSkipping line 209960: expected 2 fields, saw 5\\nSkipping line 213218: expected 2 fields, saw 5\\nSkipping line 217060: expected 2 fields, saw 5\\nSkipping line 220121: expected 2 fields, saw 5\\nSkipping line 223518: expected 2 fields, saw 5\\nSkipping line 226293: expected 2 fields, saw 5\\nSkipping line 227035: expected 2 fields, saw 7\\nSkipping line 227341: expected 2 fields, saw 5\\nSkipping line 227808: expected 2 fields, saw 5\\nSkipping line 228516: expected 2 fields, saw 5\\nSkipping line 228733: expected 2 fields, saw 5\\nSkipping line 232043: expected 2 fields, saw 5\\nSkipping line 232426: expected 2 fields, saw 5\\nSkipping line 234490: expected 2 fields, saw 5\\nSkipping line 239626: expected 2 fields, saw 5\\nSkipping line 240461: expected 2 fields, saw 5\\nSkipping line 244518: expected 2 fields, saw 5\\nSkipping line 245395: expected 2 fields, saw 5\\nSkipping line 246168: expected 2 fields, saw 5\\nSkipping line 246655: expected 2 fields, saw 5\\nSkipping line 246752: expected 2 fields, saw 5\\nSkipping line 247189: expected 2 fields, saw 5\\nSkipping line 250276: expected 2 fields, saw 5\\nSkipping line 255327: expected 2 fields, saw 5\\nSkipping line 257094: expected 2 fields, saw 5\\n'\n",
      "b'Skipping line 264626: expected 2 fields, saw 5\\nSkipping line 265028: expected 2 fields, saw 5\\nSkipping line 269150: expected 2 fields, saw 5\\nSkipping line 271360: expected 2 fields, saw 5\\nSkipping line 273975: expected 2 fields, saw 5\\nSkipping line 274742: expected 2 fields, saw 5\\nSkipping line 276227: expected 2 fields, saw 5\\nSkipping line 279807: expected 2 fields, saw 5\\nSkipping line 283425: expected 2 fields, saw 5\\nSkipping line 287468: expected 2 fields, saw 5\\nSkipping line 292995: expected 2 fields, saw 5\\nSkipping line 293496: expected 2 fields, saw 5\\nSkipping line 293735: expected 2 fields, saw 5\\nSkipping line 295060: expected 2 fields, saw 5\\nSkipping line 296643: expected 2 fields, saw 5\\nSkipping line 296848: expected 2 fields, saw 5\\nSkipping line 308926: expected 2 fields, saw 5\\nSkipping line 310360: expected 2 fields, saw 5\\nSkipping line 317004: expected 2 fields, saw 5\\nSkipping line 318207: expected 2 fields, saw 5\\nSkipping line 331783: expected 2 fields, saw 5\\nSkipping line 333864: expected 2 fields, saw 5\\nSkipping line 335958: expected 2 fields, saw 5\\nSkipping line 336290: expected 2 fields, saw 5\\nSkipping line 343526: expected 2 fields, saw 5\\nSkipping line 343857: expected 2 fields, saw 5\\nSkipping line 344059: expected 2 fields, saw 5\\nSkipping line 348691: expected 2 fields, saw 5\\nSkipping line 353446: expected 2 fields, saw 5\\nSkipping line 357073: expected 2 fields, saw 5\\nSkipping line 359753: expected 2 fields, saw 5\\nSkipping line 359974: expected 2 fields, saw 5\\nSkipping line 366534: expected 2 fields, saw 5\\nSkipping line 369514: expected 2 fields, saw 5\\nSkipping line 377759: expected 2 fields, saw 5\\nSkipping line 379327: expected 2 fields, saw 5\\nSkipping line 380769: expected 2 fields, saw 5\\nSkipping line 381073: expected 2 fields, saw 5\\nSkipping line 381489: expected 2 fields, saw 5\\nSkipping line 386304: expected 2 fields, saw 5\\nSkipping line 387635: expected 2 fields, saw 5\\nSkipping line 389613: expected 2 fields, saw 5\\nSkipping line 392604: expected 2 fields, saw 5\\nSkipping line 393184: expected 2 fields, saw 5\\nSkipping line 395530: expected 2 fields, saw 5\\nSkipping line 396939: expected 2 fields, saw 5\\nSkipping line 397385: expected 2 fields, saw 5\\nSkipping line 397509: expected 2 fields, saw 5\\nSkipping line 402902: expected 2 fields, saw 5\\nSkipping line 405187: expected 2 fields, saw 5\\nSkipping line 408412: expected 2 fields, saw 5\\nSkipping line 419423: expected 2 fields, saw 5\\nSkipping line 420962: expected 2 fields, saw 5\\nSkipping line 425965: expected 2 fields, saw 5\\nSkipping line 427496: expected 2 fields, saw 5\\nSkipping line 438881: expected 2 fields, saw 5\\nSkipping line 439776: expected 2 fields, saw 5\\nSkipping line 440345: expected 2 fields, saw 5\\nSkipping line 445507: expected 2 fields, saw 5\\nSkipping line 445548: expected 2 fields, saw 5\\nSkipping line 447184: expected 2 fields, saw 5\\nSkipping line 448603: expected 2 fields, saw 5\\nSkipping line 451732: expected 2 fields, saw 5\\nSkipping line 458249: expected 2 fields, saw 5\\nSkipping line 460274: expected 2 fields, saw 5\\nSkipping line 467630: expected 2 fields, saw 5\\nSkipping line 473961: expected 2 fields, saw 5\\nSkipping line 476281: expected 2 fields, saw 5\\nSkipping line 478010: expected 2 fields, saw 5\\nSkipping line 478322: expected 2 fields, saw 5\\nSkipping line 479999: expected 2 fields, saw 5\\nSkipping line 480898: expected 2 fields, saw 5\\nSkipping line 481688: expected 2 fields, saw 5\\nSkipping line 485193: expected 2 fields, saw 5\\nSkipping line 485519: expected 2 fields, saw 5\\nSkipping line 486000: expected 2 fields, saw 5\\nSkipping line 489063: expected 2 fields, saw 5\\nSkipping line 494525: expected 2 fields, saw 5\\nSkipping line 495009: expected 2 fields, saw 5\\nSkipping line 501954: expected 2 fields, saw 5\\nSkipping line 508035: expected 2 fields, saw 5\\nSkipping line 508828: expected 2 fields, saw 5\\nSkipping line 509833: expected 2 fields, saw 5\\nSkipping line 510410: expected 2 fields, saw 5\\nSkipping line 518229: expected 2 fields, saw 5\\nSkipping line 520302: expected 2 fields, saw 5\\nSkipping line 520340: expected 2 fields, saw 5\\n'\n",
      "b'Skipping line 525174: expected 2 fields, saw 5\\nSkipping line 526251: expected 2 fields, saw 5\\nSkipping line 529611: expected 2 fields, saw 5\\nSkipping line 531398: expected 2 fields, saw 5\\nSkipping line 534146: expected 2 fields, saw 5\\nSkipping line 544954: expected 2 fields, saw 5\\nSkipping line 553002: expected 2 fields, saw 5\\nSkipping line 553883: expected 2 fields, saw 5\\nSkipping line 553887: expected 2 fields, saw 5\\nSkipping line 553915: expected 2 fields, saw 5\\nSkipping line 554172: expected 2 fields, saw 5\\nSkipping line 563534: expected 2 fields, saw 5\\nSkipping line 565191: expected 2 fields, saw 5\\nSkipping line 574108: expected 2 fields, saw 5\\nSkipping line 574412: expected 2 fields, saw 5\\nSkipping line 575985: expected 2 fields, saw 5\\nSkipping line 580091: expected 2 fields, saw 5\\nSkipping line 582682: expected 2 fields, saw 5\\nSkipping line 585885: expected 2 fields, saw 5\\nSkipping line 590171: expected 2 fields, saw 5\\nSkipping line 591924: expected 2 fields, saw 5\\nSkipping line 592515: expected 2 fields, saw 5\\nSkipping line 593888: expected 2 fields, saw 5\\nSkipping line 596245: expected 2 fields, saw 5\\nSkipping line 607344: expected 2 fields, saw 5\\nSkipping line 607633: expected 2 fields, saw 5\\nSkipping line 610939: expected 2 fields, saw 5\\nSkipping line 613638: expected 2 fields, saw 5\\nSkipping line 615643: expected 2 fields, saw 5\\nSkipping line 615901: expected 2 fields, saw 5\\nSkipping line 617389: expected 2 fields, saw 5\\nSkipping line 634641: expected 2 fields, saw 5\\nSkipping line 635755: expected 2 fields, saw 5\\nSkipping line 646243: expected 2 fields, saw 5\\nSkipping line 647165: expected 2 fields, saw 5\\nSkipping line 648610: expected 2 fields, saw 5\\nSkipping line 648772: expected 2 fields, saw 5\\nSkipping line 651833: expected 2 fields, saw 5\\nSkipping line 653663: expected 2 fields, saw 5\\nSkipping line 656233: expected 2 fields, saw 5\\nSkipping line 656694: expected 2 fields, saw 5\\nSkipping line 659783: expected 2 fields, saw 5\\nSkipping line 660478: expected 2 fields, saw 5\\nSkipping line 661133: expected 2 fields, saw 5\\nSkipping line 661736: expected 2 fields, saw 5\\nSkipping line 669827: expected 2 fields, saw 5\\n'\n"
     ]
    },
    {
     "data": {
      "text/html": [
       "<div>\n",
       "<style scoped>\n",
       "    .dataframe tbody tr th:only-of-type {\n",
       "        vertical-align: middle;\n",
       "    }\n",
       "\n",
       "    .dataframe tbody tr th {\n",
       "        vertical-align: top;\n",
       "    }\n",
       "\n",
       "    .dataframe thead th {\n",
       "        text-align: right;\n",
       "    }\n",
       "</style>\n",
       "<table border=\"1\" class=\"dataframe\">\n",
       "  <thead>\n",
       "    <tr style=\"text-align: right;\">\n",
       "      <th></th>\n",
       "      <th>password</th>\n",
       "      <th>strength</th>\n",
       "    </tr>\n",
       "  </thead>\n",
       "  <tbody>\n",
       "    <tr>\n",
       "      <td>0</td>\n",
       "      <td>kzde5577</td>\n",
       "      <td>1</td>\n",
       "    </tr>\n",
       "    <tr>\n",
       "      <td>1</td>\n",
       "      <td>kino3434</td>\n",
       "      <td>1</td>\n",
       "    </tr>\n",
       "    <tr>\n",
       "      <td>2</td>\n",
       "      <td>visi7k1yr</td>\n",
       "      <td>1</td>\n",
       "    </tr>\n",
       "    <tr>\n",
       "      <td>3</td>\n",
       "      <td>megzy123</td>\n",
       "      <td>1</td>\n",
       "    </tr>\n",
       "    <tr>\n",
       "      <td>4</td>\n",
       "      <td>lamborghin1</td>\n",
       "      <td>1</td>\n",
       "    </tr>\n",
       "  </tbody>\n",
       "</table>\n",
       "</div>"
      ],
      "text/plain": [
       "      password  strength\n",
       "0     kzde5577         1\n",
       "1     kino3434         1\n",
       "2    visi7k1yr         1\n",
       "3     megzy123         1\n",
       "4  lamborghin1         1"
      ]
     },
     "execution_count": 2,
     "metadata": {},
     "output_type": "execute_result"
    }
   ],
   "source": [
    "data=pd.read_csv('NLP DATASET.csv',error_bad_lines=False)\n",
    "data.head()\n"
   ]
  },
  {
   "cell_type": "code",
   "execution_count": 3,
   "metadata": {},
   "outputs": [
    {
     "data": {
      "text/plain": [
       "array([1, 2, 0], dtype=int64)"
      ]
     },
     "execution_count": 3,
     "metadata": {},
     "output_type": "execute_result"
    }
   ],
   "source": [
    "data['strength'].unique()"
   ]
  },
  {
   "cell_type": "code",
   "execution_count": null,
   "metadata": {},
   "outputs": [],
   "source": []
  },
  {
   "cell_type": "markdown",
   "metadata": {},
   "source": [
    "#### code to check all the missing values in my dataset (Data cleaning)"
   ]
  },
  {
   "cell_type": "code",
   "execution_count": 4,
   "metadata": {},
   "outputs": [
    {
     "data": {
      "text/plain": [
       "password    1\n",
       "strength    0\n",
       "dtype: int64"
      ]
     },
     "execution_count": 4,
     "metadata": {},
     "output_type": "execute_result"
    }
   ],
   "source": [
    "data.isna().sum()"
   ]
  },
  {
   "cell_type": "code",
   "execution_count": 5,
   "metadata": {},
   "outputs": [
    {
     "data": {
      "text/html": [
       "<div>\n",
       "<style scoped>\n",
       "    .dataframe tbody tr th:only-of-type {\n",
       "        vertical-align: middle;\n",
       "    }\n",
       "\n",
       "    .dataframe tbody tr th {\n",
       "        vertical-align: top;\n",
       "    }\n",
       "\n",
       "    .dataframe thead th {\n",
       "        text-align: right;\n",
       "    }\n",
       "</style>\n",
       "<table border=\"1\" class=\"dataframe\">\n",
       "  <thead>\n",
       "    <tr style=\"text-align: right;\">\n",
       "      <th></th>\n",
       "      <th>password</th>\n",
       "      <th>strength</th>\n",
       "    </tr>\n",
       "  </thead>\n",
       "  <tbody>\n",
       "    <tr>\n",
       "      <td>367579</td>\n",
       "      <td>NaN</td>\n",
       "      <td>0</td>\n",
       "    </tr>\n",
       "  </tbody>\n",
       "</table>\n",
       "</div>"
      ],
      "text/plain": [
       "       password  strength\n",
       "367579      NaN         0"
      ]
     },
     "execution_count": 5,
     "metadata": {},
     "output_type": "execute_result"
    }
   ],
   "source": [
    "data[data['password'].isnull()]"
   ]
  },
  {
   "cell_type": "code",
   "execution_count": 6,
   "metadata": {},
   "outputs": [],
   "source": [
    "data.dropna(inplace=True)"
   ]
  },
  {
   "cell_type": "code",
   "execution_count": 7,
   "metadata": {},
   "outputs": [
    {
     "data": {
      "text/plain": [
       "password    0\n",
       "strength    0\n",
       "dtype: int64"
      ]
     },
     "execution_count": 7,
     "metadata": {},
     "output_type": "execute_result"
    }
   ],
   "source": [
    "data.isnull().sum()"
   ]
  },
  {
   "cell_type": "code",
   "execution_count": 8,
   "metadata": {},
   "outputs": [
    {
     "data": {
      "text/plain": [
       "<matplotlib.axes._subplots.AxesSubplot at 0x2d900365b48>"
      ]
     },
     "execution_count": 8,
     "metadata": {},
     "output_type": "execute_result"
    },
    {
     "data": {
      "image/png": "[encoded data removed]",
      "text/plain": [
       "<Figure size 432x288 with 1 Axes>"
      ]
     },
     "metadata": {
      "needs_background": "light"
     },
     "output_type": "display_data"
    }
   ],
   "source": [
    "sns.countplot(data['strength'])"
   ]
  },
  {
   "cell_type": "code",
   "execution_count": 9,
   "metadata": {},
   "outputs": [],
   "source": [
    "password_tuple=np.array(data)"
   ]
  },
  {
   "cell_type": "code",
   "execution_count": 10,
   "metadata": {},
   "outputs": [
    {
     "data": {
      "text/plain": [
       "array([['kzde5577', 1],\n",
       "       ['kino3434', 1],\n",
       "       ['visi7k1yr', 1],\n",
       "       ...,\n",
       "       ['184520socram', 1],\n",
       "       ['marken22a', 1],\n",
       "       ['fxx4pw4g', 1]], dtype=object)"
      ]
     },
     "execution_count": 10,
     "metadata": {},
     "output_type": "execute_result"
    }
   ],
   "source": [
    "password_tuple"
   ]
  },
  {
   "cell_type": "code",
   "execution_count": null,
   "metadata": {},
   "outputs": [],
   "source": []
  },
  {
   "cell_type": "markdown",
   "metadata": {},
   "source": [
    "#### shuffling randomly for robustness and to avoid data imbalance"
   ]
  },
  {
   "cell_type": "code",
   "execution_count": 11,
   "metadata": {},
   "outputs": [],
   "source": [
    "import random\n",
    "random.shuffle(password_tuple)"
   ]
  },
  {
   "cell_type": "code",
   "execution_count": 12,
   "metadata": {},
   "outputs": [],
   "source": [
    "x=[labels[0] for labels in password_tuple]\n",
    "y=[labels[1] for labels in password_tuple]\n"
   ]
  },
  {
   "cell_type": "code",
   "execution_count": 13,
   "metadata": {},
   "outputs": [
    {
     "data": {
      "text/plain": [
       "['kzde5577',\n",
       " 'kino3434',\n",
       " 'visi7k1yr',\n",
       " 'visi7k1yr',\n",
       " 'lamborghin1',\n",
       " 'lamborghin1',\n",
       " 'kino3434',\n",
       " 'kzde5577',\n",
       " 'v1118714',\n",
       " 'kino3434',\n",
       " 'as326159',\n",
       " '612035180tok',\n",
       " '612035180tok',\n",
       " 'visi7k1yr',\n",
       " 'AVYq1lDE4MgAZfNt',\n",
       " 'g067057895',\n",
       " 'WUt9IZzE0OQ7PkNE',\n",
       " 'universe2908',\n",
       " 'visi7k1yr',\n",
       " '52558000aaa',\n",
       " 'v1118714',\n",
       " 'intel1',\n",
       " 'lamborghin1',\n",
       " 'g067057895',\n",
       " 'kino3434',\n",
       " 'lamborghin1',\n",
       " 'u6c8vhow',\n",
       " 'lamborghin1',\n",
       " 'asv5o9yu',\n",
       " 'elyass15@ajilent-ci',\n",
       " 'prisonbreak1',\n",
       " 'visi7k1yr',\n",
       " 'schalke04',\n",
       " 'fk9qi21m',\n",
       " 'kino3434',\n",
       " 'lamborghin1',\n",
       " 'lamborghin1',\n",
       " 'u6c8vhow',\n",
       " 'kswa2mrv',\n",
       " 'asgaliu11',\n",
       " 'juliel009',\n",
       " 'asgaliu11',\n",
       " 'fahad123',\n",
       " 'as326159',\n",
       " 'go7kew7a2po',\n",
       " 'kino3434',\n",
       " 'alimagik1',\n",
       " 'trabajonet9',\n",
       " 'jytifok873',\n",
       " 'idofo673',\n",
       " 'cigicigi123',\n",
       " 'intel1',\n",
       " 'openup12',\n",
       " 'fahad123',\n",
       " 'universe2908',\n",
       " 'kino3434',\n",
       " 'faranumar91',\n",
       " 'patri1973',\n",
       " 'b4NbTxDEyNgG141J',\n",
       " 'kzde5577',\n",
       " '0169395484a',\n",
       " 'a2531106',\n",
       " 'juliel009',\n",
       " 'memjan123',\n",
       " 'kino3434',\n",
       " 'c3h8bkzr',\n",
       " 'memjan123',\n",
       " 'hpqkoxsn5',\n",
       " '0169395484a',\n",
       " 'TyWM72UNEex8Q8Y',\n",
       " 'gdfn76',\n",
       " 'trabajonet9',\n",
       " 'u6c8vhow',\n",
       " '612035180tok',\n",
       " 'sknq7m0',\n",
       " 'ejeko677',\n",
       " 'b4NbTxDEyNgG141J',\n",
       " 'pHyqueDIyNQ8vmhb',\n",
       " 'pHyqueDIyNQ8vmhb',\n",
       " 'visi7k1yr',\n",
       " 'obstacle25',\n",
       " 'cigicigi123',\n",
       " 'ga98SIzk0NwhiZaE',\n",
       " 'matiofox08',\n",
       " 'elyass15@ajilent-ci',\n",
       " 'hpqkoxsn5',\n",
       " 'fahad123',\n",
       " '2021848709.',\n",
       " 'megzy123',\n",
       " 'kino3434',\n",
       " 'calcifer32',\n",
       " 'j09000',\n",
       " 'juliana19',\n",
       " 'c3h8bkzr',\n",
       " 'klara-tershina3H',\n",
       " 'gill02',\n",
       " 'ok>bdk',\n",
       " 'jonothepoop1',\n",
       " 'hodygid757',\n",
       " 'jytifok873',\n",
       " 'yitbos77',\n",
       " 'prisonbreak1',\n",
       " 'universe2908',\n",
       " 'exitos2009',\n",
       " 'oekojWyH120063',\n",
       " 'fk9qi21m',\n",
       " 'visi7k1yr',\n",
       " 'lamborghin1',\n",
       " 'mickael12',\n",
       " 'fahad123',\n",
       " 'snolyuj04',\n",
       " 'visi7k1yr',\n",
       " 'olmaz.',\n",
       " 'khmer100.03278&?><Mnb',\n",
       " '123477889a',\n",
       " 'yitbos77',\n",
       " '612035180tok',\n",
       " 'yqugu927',\n",
       " 'kunyukbabi69',\n",
       " 'elyass15@ajilent-ci',\n",
       " 'farrukhcse12',\n",
       " '746xitEGiqObog',\n",
       " 'gill02',\n",
       " 'zoobike04',\n",
       " 'pato221182',\n",
       " 'ns2b0727',\n",
       " 'gdfn76',\n",
       " 'bozoxik602',\n",
       " 'asgaliu11',\n",
       " 'faranumar91',\n",
       " 'rogyh820',\n",
       " 'fk9qi21m',\n",
       " 'jalal123456',\n",
       " 'tamanagung6',\n",
       " 'gill02',\n",
       " 'k9b8cz6aj2',\n",
       " 'bozoxik602',\n",
       " 'matiofox08',\n",
       " 'mmm23mm',\n",
       " 'ldteugao6',\n",
       " 'kjkjkj1',\n",
       " 'visi7k1yr',\n",
       " 'bozoxik602',\n",
       " 'hodygid757',\n",
       " '10Erjrlmebup0n',\n",
       " 'v1118714',\n",
       " '64959rodro',\n",
       " '12345yolanda',\n",
       " 'j09000',\n",
       " 'il0vey0u',\n",
       " 'TyWM72UNEex8Q8Y',\n",
       " 'pato221182',\n",
       " 'sanki1',\n",
       " 'kjkjkj1',\n",
       " 'elyass15@ajilent-ci',\n",
       " 'mickael12',\n",
       " 'ass359',\n",
       " '123maxbala',\n",
       " 'hpqkoxsn5',\n",
       " 'jalingo1',\n",
       " 'go7kew7a2po',\n",
       " '6975038lp',\n",
       " '52558000aaa',\n",
       " '64959rodro',\n",
       " 'b4NbTxDEyNgG141J',\n",
       " 'barra23',\n",
       " '26522876p',\n",
       " 'alchimie79',\n",
       " 'RqsuUsDYxNgr8T40',\n",
       " 'mickael12',\n",
       " '20Dgw7TQ0OQVdly7',\n",
       " '6975038lp',\n",
       " 'nicolas05',\n",
       " '26522876p',\n",
       " 'gill02',\n",
       " 'lsdlsd1',\n",
       " 'idofo673',\n",
       " '3vszncp4',\n",
       " 'p@sslng2diword',\n",
       " 'lamborghin1',\n",
       " 'alimagik1',\n",
       " '0169395484a',\n",
       " 'tin030201',\n",
       " 'bozoxik602',\n",
       " 'ass359',\n",
       " 'g067057895',\n",
       " 'openup12',\n",
       " 'il0vey0u',\n",
       " '283671gus',\n",
       " '0870330135a',\n",
       " 'gaymaids1',\n",
       " 'yqugu927',\n",
       " 'denise18',\n",
       " 'p@sslng2diword',\n",
       " 'pikey231',\n",
       " 'z7zbgIDkzMQeHUd9',\n",
       " 'calcifer32',\n",
       " 'yu4cmn',\n",
       " 'alimagik1',\n",
       " '26522876p',\n",
       " 'demon10',\n",
       " 'igejasy712',\n",
       " 'yuri110995',\n",
       " 'obstacle25',\n",
       " 'hodygid757',\n",
       " 'RqsuUsDYxNgr8T40',\n",
       " 'robot425',\n",
       " 'khmer100.03278&?><Mnb',\n",
       " 'bozoxik602',\n",
       " 'meriton23',\n",
       " 'ikanez886',\n",
       " 'yllime123',\n",
       " 'a0972986650',\n",
       " 'ikanez886',\n",
       " 'intel1',\n",
       " '838188linh',\n",
       " 'denise18',\n",
       " 'fk9qi21m',\n",
       " 'okn9zp9o',\n",
       " 'wisal1234',\n",
       " 'Iamthelegend1!',\n",
       " 'c3h8bkzr',\n",
       " 'alimagik1',\n",
       " 'kjkjkj1',\n",
       " '215466kenyi',\n",
       " 'cesarmaio1',\n",
       " 'franczuk33',\n",
       " '159951josh',\n",
       " 'p@sslng2diword',\n",
       " 'nicolas05',\n",
       " 'hayhayq2',\n",
       " 'mmm23mm',\n",
       " '0169395484a',\n",
       " 'x8512514',\n",
       " 'tucagu356',\n",
       " 'RPFUOUDQwMwVW0AS',\n",
       " '1972vishara',\n",
       " 'wisal1234',\n",
       " 'k1k2k3k4k5k6',\n",
       " 'icap12',\n",
       " 'demon10',\n",
       " '4osxw4r',\n",
       " 'jalal123456',\n",
       " 'krumbul123',\n",
       " 'alchimie79',\n",
       " 'u6c8vhow',\n",
       " 'ikanez886',\n",
       " 'gdfn76',\n",
       " 'vgnfs495vp',\n",
       " 'meriton23',\n",
       " 'pablo321159',\n",
       " 'kry1z9',\n",
       " 'z3ro1sm',\n",
       " 'e667794c1d',\n",
       " 'moimoimoi9',\n",
       " 'wxS2ztDk4OATjBfI',\n",
       " 'wisal1234',\n",
       " 'juliana19',\n",
       " 'kzde5577',\n",
       " 'bgrvl80',\n",
       " 'idofo673',\n",
       " 'abizar08',\n",
       " 'snolyuj04',\n",
       " 'zoobike04',\n",
       " 'franczuk33',\n",
       " 'prisonbreak1',\n",
       " 'gill02',\n",
       " '2010server',\n",
       " 'RPFUOUDQwMwVW0AS',\n",
       " 'a0972986650',\n",
       " '0169395484a',\n",
       " 'universe2908',\n",
       " '123477889a',\n",
       " '123477889a',\n",
       " 'jytifok873',\n",
       " 'kenneth610',\n",
       " 'alchimie79',\n",
       " 'bellsuki1',\n",
       " 'a2531106',\n",
       " 'iwaguh884',\n",
       " 'virush1n1',\n",
       " 'bellsuki1',\n",
       " 'witek1709',\n",
       " 'pato221182',\n",
       " 'yk530mg8',\n",
       " 'jerusalem393',\n",
       " 'hpqkoxsn5',\n",
       " 'ass359',\n",
       " 'xiau5ff',\n",
       " 'kunyukbabi69',\n",
       " 'g3rappa',\n",
       " 'z3ro1sm',\n",
       " 'IjUcOtYqAwel725',\n",
       " 'jytifok873',\n",
       " 'igejasy712',\n",
       " 'aquhih220',\n",
       " 'pHyqueDIyNQ8vmhb',\n",
       " 'd04m11',\n",
       " 'okn9zp9o',\n",
       " 'kino3434',\n",
       " 'ts34a3fodh3i',\n",
       " 'a110804032',\n",
       " 'khmer100.03278&?><Mnb',\n",
       " 'change201',\n",
       " 'cesarmaio1',\n",
       " 'tucagu356',\n",
       " 'lamborghin1',\n",
       " 's4m2dx9e6',\n",
       " 'WUt9IZzE0OQ7PkNE',\n",
       " 'k1k2k3k4k5k6',\n",
       " 'bozoxik602',\n",
       " 'x8512514',\n",
       " '1597535youssi',\n",
       " '3y6iwef2g6',\n",
       " 'saule123',\n",
       " 'colorado27',\n",
       " 'hosna1368',\n",
       " 'teste10',\n",
       " 'd04m11',\n",
       " 'zgmfnwuq25',\n",
       " 'fahad123',\n",
       " 'wxS2ztDk4OATjBfI',\n",
       " 'obstacle25',\n",
       " 'taurofive16',\n",
       " 'kunyukbabi69',\n",
       " '838188linh',\n",
       " 'bencike7',\n",
       " '283671gus',\n",
       " 'k1k2k3k4k5k6',\n",
       " 'atigi839',\n",
       " 'X9WVojjE4MgVAIiR',\n",
       " 's0xwym7h',\n",
       " 'w9209640',\n",
       " 'elonex24',\n",
       " 'icap12',\n",
       " 'g067057895',\n",
       " 'lzhzad1989',\n",
       " 'universe2908',\n",
       " 'ajyrew547',\n",
       " '631ihOZogELoVap',\n",
       " 'pablo321159',\n",
       " 'xlxlxl777',\n",
       " 'den019520',\n",
       " 'gtlek',\n",
       " 'finisterra1',\n",
       " 'w9209640',\n",
       " 'patty94',\n",
       " '1597535youssi',\n",
       " 'yqugu927',\n",
       " 'hpqkoxsn5',\n",
       " 'ejeko677',\n",
       " '7942vikas',\n",
       " 'Iamthelegend1!',\n",
       " 'y0unus',\n",
       " 'obstacle25',\n",
       " 'd04m11',\n",
       " 'g067057895',\n",
       " 'vehat387',\n",
       " '123nicole',\n",
       " 'aosmaxd0',\n",
       " '3vszncp4',\n",
       " 'pikey231',\n",
       " 'autan88',\n",
       " 'gerardway1',\n",
       " 'oekojWyH120063',\n",
       " 'kitty555',\n",
       " 'ubojig109',\n",
       " 'fnmsdha476',\n",
       " 'oatcake87',\n",
       " 'virush1n1',\n",
       " 'xp;ysmybst',\n",
       " 'XqMB7vDMzOQocAFV',\n",
       " 'u03kz6ez',\n",
       " 'oscar69',\n",
       " 'yk530mg8',\n",
       " 'cUFUSYKIPuGo024',\n",
       " 'vuqADUSatAJO800',\n",
       " 'khmer100.03278&?><Mnb',\n",
       " 'wo9aiwangyan',\n",
       " 'k9b8cz6aj2',\n",
       " '20Dgw7TQ0OQVdly7',\n",
       " 'x0004534',\n",
       " '20010509wang',\n",
       " 'znbl5tj1',\n",
       " 'xiau5ff',\n",
       " 'hodygid757',\n",
       " 'clave08',\n",
       " 'hqh2eYjQxOQPYIsA',\n",
       " 'Staterkom20081993',\n",
       " 'ycqtgdso3',\n",
       " 'Iamthelegend1!',\n",
       " 'webstudio8',\n",
       " '2GnTStTE4Mw4MTwv',\n",
       " 'kswa2mrv',\n",
       " 'lofebop480',\n",
       " 'yzxwvgbdu503',\n",
       " 'x8512514',\n",
       " 'AVYq1lDE4MgAZfNt',\n",
       " 'QWERTY0011',\n",
       " 'y0unus',\n",
       " 'sysoja794',\n",
       " '746xitEGiqObog',\n",
       " '1597535youssi',\n",
       " 'bozoxik602',\n",
       " 'cristiano7',\n",
       " '4fqa52vecr',\n",
       " '07dpv1127b',\n",
       " 'ejeko677',\n",
       " 'JEQuloqOFUd102',\n",
       " 'folashade1',\n",
       " 'yy4129',\n",
       " 'ikanez886',\n",
       " 'cdann123',\n",
       " 'snolyuj04',\n",
       " 'roxana1993',\n",
       " 'gandhi8513',\n",
       " 'v10rica',\n",
       " 'jytifok873',\n",
       " 'clave2013',\n",
       " '0VKWoODkwOAc0pZK',\n",
       " '631ihOZogELoVap',\n",
       " 'b4NbTxDEyNgG141J',\n",
       " 'uxyloga692',\n",
       " 'yitbos77',\n",
       " 'go7kew7a2po',\n",
       " 'Staterkom20081993',\n",
       " 'sysoja794',\n",
       " 'afs34214',\n",
       " 'barboza221294',\n",
       " 'xW8-3w7-MFB-CKH',\n",
       " 'X9WVojjE4MgVAIiR',\n",
       " 'taulant123',\n",
       " 'kjkjkj1',\n",
       " 'hqh2eYjQxOQPYIsA',\n",
       " 'u03kz6ez',\n",
       " 'ubojig109',\n",
       " 'just1n0k',\n",
       " 'purpledog1992',\n",
       " 'kayal123',\n",
       " 'ldteugao6',\n",
       " 'krumbul123',\n",
       " 'owote852',\n",
       " 'tukaxo486',\n",
       " 'uxyloga692',\n",
       " '5gzj5uf',\n",
       " 'saule123',\n",
       " 'patri1973',\n",
       " 'ypodahe201',\n",
       " 'clave2013',\n",
       " '1972vishara',\n",
       " '123net123',\n",
       " 'asgaliu11',\n",
       " 'v10rica',\n",
       " 'gaymaids1',\n",
       " 'examy624',\n",
       " 'wo9aiwangyan',\n",
       " 'uxyloga692',\n",
       " '16731673ir',\n",
       " 'hasan18',\n",
       " 'klara-tershina3H',\n",
       " 'grazi0201',\n",
       " 'go7kew7a2po',\n",
       " 'moimoimoi9',\n",
       " '159951josh',\n",
       " 'k9b8cz6aj2',\n",
       " 'peluchin4',\n",
       " '612035180tok',\n",
       " 'caramelo9',\n",
       " 'sd6x9s3s',\n",
       " 'just1n0k',\n",
       " 'taulant123',\n",
       " 'xyws951753',\n",
       " 'cUFUSYKIPuGo024',\n",
       " 'as8594505',\n",
       " 'kjkjkj1',\n",
       " 'x8512514',\n",
       " 'mmm23mm',\n",
       " 'kenneth610',\n",
       " '0870330135a',\n",
       " '4osxw4r',\n",
       " 'sofietou74',\n",
       " 'd6VyrkFV6oblxNs5N8cW',\n",
       " 'ldteugao6',\n",
       " 'jUV4dSDQwNwPpA36',\n",
       " 'gutergut599',\n",
       " 'kswa2mrv',\n",
       " 'kzde5577',\n",
       " 'pmcm110118008',\n",
       " 'colorado27',\n",
       " 'xlxlxl777',\n",
       " 'clyioqzgw42',\n",
       " 'PEPITO00',\n",
       " 'elonex24',\n",
       " 'wasanun13',\n",
       " 'markama10',\n",
       " '1972vishara',\n",
       " 'metopelo1623',\n",
       " 'grazi0201',\n",
       " '123477889a',\n",
       " 'kyodai666',\n",
       " 'as326159',\n",
       " 'sanki1',\n",
       " 'a0972986650',\n",
       " '64959rodro',\n",
       " '1597535youssi',\n",
       " 'ubojig109',\n",
       " 'vgnfs495vp',\n",
       " 'jUV4dSDQwNwPpA36',\n",
       " 's0xwym7h',\n",
       " 'njmania114',\n",
       " 'v1118714',\n",
       " 'arigato3',\n",
       " 'yllime123',\n",
       " 'pikey231',\n",
       " 'olmaz.',\n",
       " 'RqsuUsDYxNgr8T40',\n",
       " 'ram@!sita15392',\n",
       " 'afs34214',\n",
       " 'poseidon2011',\n",
       " 'xp;ysmybst',\n",
       " 'moken7',\n",
       " '2yz4ewwg',\n",
       " '9950twofour0',\n",
       " '2GnTStTE4Mw4MTwv',\n",
       " 'sd6x9s3s',\n",
       " '2fakjv',\n",
       " 'n501iomf',\n",
       " 'kinga22',\n",
       " 'z7zbgIDkzMQeHUd9',\n",
       " 'ga98SIzk0NwhiZaE',\n",
       " 'lzhzad1989',\n",
       " 'zjl0kx03',\n",
       " '20Dgw7TQ0OQVdly7',\n",
       " 'trabajonet9',\n",
       " 'alchimie79',\n",
       " '1qa2ws3ed4rf',\n",
       " 'go7kew7a2po',\n",
       " 'ebacuro434',\n",
       " 'as326159',\n",
       " '283671gus',\n",
       " 'RPFUOUDQwMwVW0AS',\n",
       " 'puegwajy416',\n",
       " 'sebax2013',\n",
       " 'j2yj2yj2y',\n",
       " 'p2share',\n",
       " 'snolyuj04',\n",
       " 'trabajonet9',\n",
       " '0169395484a',\n",
       " 'fnmsdha476',\n",
       " 'servbot88',\n",
       " 'yami12',\n",
       " 'PEPITO00',\n",
       " 'franczuk33',\n",
       " 'butisugo39',\n",
       " 'yu86640132',\n",
       " '746xitEGiqObog',\n",
       " 'witek1709',\n",
       " 'Iamthelegend1!',\n",
       " 'Oshity07142014',\n",
       " 'sanki1',\n",
       " 'b4NbTxDEyNgG141J',\n",
       " 'hello2104',\n",
       " 'seller1',\n",
       " 'fk9qi21m',\n",
       " 'universe2908',\n",
       " 'jerusalem393',\n",
       " '2652033abc',\n",
       " '6tequila6',\n",
       " 'mathilde54550',\n",
       " 'josue12',\n",
       " 'hayhayq2',\n",
       " 'patty94',\n",
       " '238wofutUtIGyf',\n",
       " 'robot425',\n",
       " 'puegwajy416',\n",
       " 'taiga0088',\n",
       " 'd04m11',\n",
       " 'ebogel225',\n",
       " 'webstudio8',\n",
       " '1ngaymuadong',\n",
       " 'qopybuxi2',\n",
       " 'nokia6020',\n",
       " 'sebo82',\n",
       " 'junaid5',\n",
       " 'm4r4hne',\n",
       " 'frhnsvelhfr1',\n",
       " 'sergius1964',\n",
       " 'ts34a3fodh3i',\n",
       " '612035180tok',\n",
       " 'hqh2eYjQxOQPYIsA',\n",
       " 'yu4cmn',\n",
       " 'n501iomf',\n",
       " 'atigi839',\n",
       " 'josef0867',\n",
       " 'sasuke4',\n",
       " 'DRAGON25',\n",
       " 'azerty32',\n",
       " 'polo2014',\n",
       " 'sanjaime1',\n",
       " 'denise18',\n",
       " '612035180tok',\n",
       " 'taurofive16',\n",
       " 'khurram_',\n",
       " 'kinga22',\n",
       " 'jekkmoeder>',\n",
       " 'beijing168',\n",
       " 'nello11',\n",
       " 'franczuk33',\n",
       " '123nicole',\n",
       " '0870330135a',\n",
       " 'hisnipes1',\n",
       " 'sandra0547',\n",
       " '1ngaymuadong',\n",
       " 'exitos2009',\n",
       " 'vardhan19',\n",
       " 'djngeyut2707',\n",
       " 'il0vey0u',\n",
       " 'pugceya468',\n",
       " 'bencike7',\n",
       " 'lymuvop730',\n",
       " 'fr8OClDY1MAdEhHa',\n",
       " 'princ3sa',\n",
       " 'acetita478',\n",
       " 'Jovan13lovekenthjusvan4ever',\n",
       " 'atigi839',\n",
       " 'kenyu001',\n",
       " 'k9b8cz6aj2',\n",
       " 'nLIGyhTU1NQTAp6u',\n",
       " '19821010a',\n",
       " 'yut0838828185',\n",
       " '600eretz',\n",
       " 'yzxwvgbdu503',\n",
       " 'desmondkok21',\n",
       " '248sUqiFEJuRag',\n",
       " 'desmondkok21',\n",
       " 'teemteem97',\n",
       " 'z3ro1sm',\n",
       " 'kzde5577',\n",
       " 'snolyuj04',\n",
       " 'zgmfnwuq25',\n",
       " 'franczuk33',\n",
       " '64959rodro',\n",
       " 'bafiqkxwu0',\n",
       " 'jannia5',\n",
       " 'rLLh4WDQ2OAWbDO5',\n",
       " 's4m2dx9e6',\n",
       " 'ixehawojEPe418',\n",
       " 'just1n0k',\n",
       " 'la3na4you',\n",
       " 'elonex24',\n",
       " 'gkrqjs6',\n",
       " '746xitEGiqObog',\n",
       " 'oekojWyH120063',\n",
       " 'purpledog1992',\n",
       " 'elonex24',\n",
       " '26522876p',\n",
       " 'g3rappa',\n",
       " 'nhiannei040',\n",
       " 'as326159',\n",
       " 'pacific52',\n",
       " 'ixehawojEPe418',\n",
       " 'hayhayq2',\n",
       " 'wuzsadav933',\n",
       " 'sofietou74',\n",
       " 'osimeytju12',\n",
       " 'xyws951753',\n",
       " '1katertje',\n",
       " 'rakag279',\n",
       " '2652033abc',\n",
       " 'virush1n1',\n",
       " 'parvizrus13',\n",
       " 'purpledog1992',\n",
       " 'Ju6BIMTU0MwYXtL4',\n",
       " '7l1hu1xa',\n",
       " 'pedronha96',\n",
       " '19821010a',\n",
       " '248sUqiFEJuRag',\n",
       " 'ycqtgdso3',\n",
       " 'zoobike04',\n",
       " 'warriors08',\n",
       " 'uqilyni846',\n",
       " '123net123',\n",
       " 'gerardway1',\n",
       " 'patty94',\n",
       " 'pmcm110118008',\n",
       " 'junaid5',\n",
       " '2yz4ewwg',\n",
       " '1justogax',\n",
       " 'webstudio8',\n",
       " '23deagosto',\n",
       " 'sun4shine76',\n",
       " 'oatcake87',\n",
       " 'MT766631',\n",
       " 'wxS2ztDk4OATjBfI',\n",
       " 'maulana79',\n",
       " 'visi7k1yr',\n",
       " '929865yt',\n",
       " 'cdann123',\n",
       " 'taulant123',\n",
       " 'intel1',\n",
       " 'peluchin4',\n",
       " 'hello2104',\n",
       " 'password0880',\n",
       " 'planes123',\n",
       " 'cesarmaio1',\n",
       " 'beijing168',\n",
       " 'fudijep286',\n",
       " 'hola45',\n",
       " 'kenneth610',\n",
       " 'exitos2009',\n",
       " 'pizxmwaos537',\n",
       " 'nLIGyhTU1NQTAp6u',\n",
       " 'zendegi2me',\n",
       " 'ga98SIzk0NwhiZaE',\n",
       " 'lollies1989',\n",
       " '123456rajput',\n",
       " 'llahetihw1',\n",
       " 'samael666',\n",
       " 'parvizrus13',\n",
       " 'junaid5',\n",
       " 't8IkFRDIxMAFV2JW',\n",
       " 'matiz4533',\n",
       " 'groster152',\n",
       " 'tia150979',\n",
       " 'Zdyf0kjMzNQycqPx',\n",
       " 'nLIGyhTU1NQTAp6u',\n",
       " 'znbl5tj1',\n",
       " 'sasuke4',\n",
       " 'iL1BEmTUyMg8YYbn',\n",
       " 'mashhood_afzal21087',\n",
       " 'demon10',\n",
       " '215466kenyi',\n",
       " 'uxyloga692',\n",
       " 'sha122511',\n",
       " 'fr8OClDY1MAdEhHa',\n",
       " 'sebax2013',\n",
       " '00J46LTAxMgME7C4',\n",
       " '6975038lp',\n",
       " 'peluchin4',\n",
       " 'juany57',\n",
       " 'teemteem97',\n",
       " 'obstacle25',\n",
       " 'asv5o9yu',\n",
       " 'matha81',\n",
       " 'oekojWyH120063',\n",
       " 'colorado27',\n",
       " 'zidadoh258',\n",
       " 'vietnga92',\n",
       " 'tamanagung6',\n",
       " 'jalal123456',\n",
       " 'sha122511',\n",
       " 'afs34214',\n",
       " '10Erjrlmebup0n',\n",
       " 'BZVQZBTM1MApRV7s',\n",
       " 'woaini0',\n",
       " 'qwekl12',\n",
       " '2652033abc',\n",
       " 'mmm23mm',\n",
       " 'x57669',\n",
       " '1991vikash',\n",
       " 'autan88',\n",
       " 'senghong2009',\n",
       " 'x0004534',\n",
       " 'goony01',\n",
       " 'd4xQ3LjUwMQFVCYQ',\n",
       " 'jEzZXUTE3MgJ4fVk',\n",
       " 'alhama11408',\n",
       " '727nimdadre',\n",
       " 'karl88',\n",
       " '72o0yzekib4',\n",
       " 'patri1973',\n",
       " '3f5xd41l0ik7',\n",
       " 'igejasy712',\n",
       " 'mndzbqkv651',\n",
       " 'jerusalem393',\n",
       " 'n501iomf',\n",
       " 'den019520',\n",
       " '000webhostcom',\n",
       " 'kunyukbabi69',\n",
       " 'eVl19ADIxNAmU09N',\n",
       " '727nimdadre',\n",
       " 'k1k2k3k4k5k6',\n",
       " 'w1ll1ams',\n",
       " 'znbl5tj1',\n",
       " '600eretz',\n",
       " '07dpv1127b',\n",
       " 'megzy123',\n",
       " 'desmondkok21',\n",
       " '26522876p',\n",
       " 'ekufite742',\n",
       " 'parent777',\n",
       " 'ldteugao6',\n",
       " 'juliel009',\n",
       " '3y6iwef2g6',\n",
       " '2yz4ewwg',\n",
       " 'cifinew817',\n",
       " 'padhila30',\n",
       " 'kdl9cl53',\n",
       " 'viri13',\n",
       " 'edcmki90',\n",
       " 'falre1524',\n",
       " 'qwekl12',\n",
       " 'cdann123',\n",
       " 'lofebop480',\n",
       " 'jntjmh7',\n",
       " 'hide68',\n",
       " 'J0LcDWDc2NAVE8j3',\n",
       " 'jerusalem393',\n",
       " 'gkrqjs6',\n",
       " 'julie1989',\n",
       " 'aosmaxd0',\n",
       " 'natalia12',\n",
       " 'klara-tershina3H',\n",
       " 'clumsy0619',\n",
       " 'sono11',\n",
       " 'kevin24',\n",
       " 'ayles2266',\n",
       " 'fudijep286',\n",
       " 'macias2010',\n",
       " 'ezekiel720',\n",
       " 'karl88',\n",
       " 'oscar69',\n",
       " '1245386fj',\n",
       " 'ppnyadam09',\n",
       " 'ok>bdk',\n",
       " 'nK0yKXTU0NQHZE2e',\n",
       " 'onurb1994',\n",
       " 'cristiano7',\n",
       " 'artom111478',\n",
       " 'gutergut599',\n",
       " 'BB11227122',\n",
       " 'karl88',\n",
       " 'hot622204',\n",
       " 'faranumar91',\n",
       " 'saule123',\n",
       " 'aslpls2009',\n",
       " 'kayal123',\n",
       " 'oioo9og',\n",
       " 'limichan99',\n",
       " '123477889a',\n",
       " 'as8594505',\n",
       " 'papasito1991',\n",
       " 'sebax2013',\n",
       " 'kahcyxvj24',\n",
       " 'urban1',\n",
       " 'holamundo1',\n",
       " 'numero2',\n",
       " 'senghong2009',\n",
       " '123456ts',\n",
       " 'change201',\n",
       " '52558000aaa',\n",
       " 'yy4129',\n",
       " 'julie1989',\n",
       " 'ajyrew547',\n",
       " 'patty94',\n",
       " '123net123',\n",
       " '10Erjrlmebup0n',\n",
       " 'RqsuUsDYxNgr8T40',\n",
       " 'visi7k1yr',\n",
       " 'mark11',\n",
       " 'JEQuloqOFUd102',\n",
       " 'Jovan13lovekenthjusvan4ever',\n",
       " 'diegote10',\n",
       " 'kunyukbabi69',\n",
       " 'osimeytju12',\n",
       " 'mehmet4524572',\n",
       " 'killer5',\n",
       " 'exusop649',\n",
       " '64whbrb351',\n",
       " 'w1e2s3l4',\n",
       " 'denise18',\n",
       " 'alodise603',\n",
       " 'peter04',\n",
       " 'padhila30',\n",
       " 'TyWM72UNEex8Q8Y',\n",
       " 'rqmswof2llb0',\n",
       " 'ts02521712',\n",
       " 'denise18',\n",
       " 'nokia6020',\n",
       " 'in595462',\n",
       " 'ixehawojEPe418',\n",
       " 'denise18',\n",
       " 'willboss13',\n",
       " 'balamuc123',\n",
       " 'asgaliu11',\n",
       " 'fnmsdha476',\n",
       " 'vgnfs495vp',\n",
       " 'krishna2',\n",
       " 'MT766631',\n",
       " 'zeeshanbhai1',\n",
       " 'kinga22',\n",
       " 'laedbchsx687',\n",
       " 'afan520307',\n",
       " 'ajyrew547',\n",
       " 'samael666',\n",
       " 'in595462',\n",
       " 'amandine666',\n",
       " 'muoaqxwc21',\n",
       " 'cc71797805',\n",
       " 'vmdo3i',\n",
       " 'kVczcljg4OA25Aeb',\n",
       " '6tequila6',\n",
       " 'llahetihw1',\n",
       " 'persian13223',\n",
       " 'ineedyou23',\n",
       " 'password0880',\n",
       " 'ns2b0727',\n",
       " 'sd6x9s3s',\n",
       " 'iprwxmfk84',\n",
       " 'paul2007',\n",
       " '0169395484a',\n",
       " 'change201',\n",
       " '3clrcaevu7',\n",
       " '241189dumai',\n",
       " 'ydd45ee',\n",
       " 'krumbul123',\n",
       " 'yilmaz070',\n",
       " 'byeypb2',\n",
       " 'jerusalem393',\n",
       " 'megzy123',\n",
       " 'gozv3e5',\n",
       " 'o7ShLdTM0NAQRI7E',\n",
       " 'deivid1991',\n",
       " 'sebo82',\n",
       " 'qn5xpg3k00',\n",
       " '215466kenyi',\n",
       " 'kitty555',\n",
       " 'persian13223',\n",
       " '123456rajput',\n",
       " '20Dgw7TQ0OQVdly7',\n",
       " 'ayles2266',\n",
       " 'djda1203zj',\n",
       " 'webhost0hm000',\n",
       " 'poilkjmnb987',\n",
       " 'seller1',\n",
       " 'tim80327',\n",
       " 'hlQ8gDTExMQWkeda',\n",
       " 'aliki123',\n",
       " 'zb08110229',\n",
       " 'Zanekurosak10%',\n",
       " 'vardhan19',\n",
       " 'xW8-3w7-MFB-CKH',\n",
       " 'gopal8420',\n",
       " 'terrassa6',\n",
       " 'cztPECjY2MQGFxnN',\n",
       " 'shooting1965j',\n",
       " 'meopvywk628',\n",
       " 'lollies1989',\n",
       " 'sasuke4',\n",
       " '123456ts',\n",
       " 'fbjurcd961',\n",
       " 'twil8x0',\n",
       " 'SLAEgyTk0OQxphJq',\n",
       " 'taulant123',\n",
       " 'peter04',\n",
       " 'alimagik1',\n",
       " 'nndcvf1',\n",
       " '13bola',\n",
       " 'angelinajol52',\n",
       " 'jalingo1',\n",
       " 'wuzsadav933',\n",
       " 'rogama69',\n",
       " '7942vikas',\n",
       " 'lizndina1',\n",
       " 'BsKbJHTY4NgesCOs',\n",
       " 'sha122511',\n",
       " 'poilkjmnb987',\n",
       " 'medebizu3',\n",
       " 'jj46azbo',\n",
       " 'zendegi2me',\n",
       " 'walterivl13',\n",
       " 'zjl0kx03',\n",
       " 'Staterkom20081993',\n",
       " 'IRZA98',\n",
       " 'zcb1314520zxr.',\n",
       " 'purpledog1992',\n",
       " 'clyioqzgw42',\n",
       " '1994kerr1994',\n",
       " '123nicole',\n",
       " '26522876p',\n",
       " 'vestax25',\n",
       " 'sydney213',\n",
       " 'stalucia66',\n",
       " 'sbl571017',\n",
       " 'jhdd2hHg_js4dhj',\n",
       " '2fakjv',\n",
       " 'deivid1991',\n",
       " 'megdam55',\n",
       " 'bozoxik602',\n",
       " 'sofietou74',\n",
       " 'akfrdma813',\n",
       " 'jeckericek24',\n",
       " 'AVYq1lDE4MgAZfNt',\n",
       " 'z7zbgIDkzMQeHUd9',\n",
       " 'sbnivetha123',\n",
       " 'lymuvop730',\n",
       " 'lancer319',\n",
       " 'wjngzro27',\n",
       " 'ufoduvo540',\n",
       " 'mpompo1',\n",
       " ...]"
      ]
     },
     "execution_count": 13,
     "metadata": {},
     "output_type": "execute_result"
    }
   ],
   "source": [
    "x"
   ]
  },
  {
   "cell_type": "code",
   "execution_count": null,
   "metadata": {},
   "outputs": [],
   "source": []
  },
  {
   "cell_type": "markdown",
   "metadata": {},
   "source": [
    "#### create a custom function to split input into characters of list"
   ]
  },
  {
   "cell_type": "code",
   "execution_count": 14,
   "metadata": {},
   "outputs": [],
   "source": [
    "def word_divide_char(inputs):\n",
    "    character=[]\n",
    "    for i in inputs:\n",
    "        character.append(i)\n",
    "    return character"
   ]
  },
  {
   "cell_type": "code",
   "execution_count": 15,
   "metadata": {},
   "outputs": [
    {
     "data": {
      "text/plain": [
       "['k', 'z', 'd', 'e', '5', '5', '7', '7']"
      ]
     },
     "execution_count": 15,
     "metadata": {},
     "output_type": "execute_result"
    }
   ],
   "source": [
    "word_divide_char('kzde5577')"
   ]
  },
  {
   "cell_type": "code",
   "execution_count": null,
   "metadata": {},
   "outputs": [],
   "source": []
  },
  {
   "cell_type": "markdown",
   "metadata": {},
   "source": [
    "#### import TF-IDF vectorizer to convert String data into numerical data"
   ]
  },
  {
   "cell_type": "code",
   "execution_count": 16,
   "metadata": {},
   "outputs": [],
   "source": [
    "from sklearn.feature_extraction.text import TfidfVectorizer"
   ]
  },
  {
   "cell_type": "code",
   "execution_count": 17,
   "metadata": {},
   "outputs": [],
   "source": [
    "vectorizer=TfidfVectorizer(tokenizer=word_divide_char)"
   ]
  },
  {
   "cell_type": "markdown",
   "metadata": {},
   "source": [
    "#### apply TF-IDF vectorizer on data"
   ]
  },
  {
   "cell_type": "code",
   "execution_count": 18,
   "metadata": {},
   "outputs": [],
   "source": [
    "X=vectorizer.fit_transform(x)"
   ]
  },
  {
   "cell_type": "code",
   "execution_count": 19,
   "metadata": {},
   "outputs": [
    {
     "data": {
      "text/plain": [
       "(669639, 132)"
      ]
     },
     "execution_count": 19,
     "metadata": {},
     "output_type": "execute_result"
    }
   ],
   "source": [
    "X.shape"
   ]
  },
  {
   "cell_type": "code",
   "execution_count": 20,
   "metadata": {},
   "outputs": [
    {
     "data": {
      "text/plain": [
       "['\\x04',\n",
       " '\\x05',\n",
       " '\\x08',\n",
       " '\\x0e',\n",
       " '\\x10',\n",
       " '\\x11',\n",
       " '\\x13',\n",
       " '\\x16',\n",
       " '\\x17',\n",
       " '\\x19',\n",
       " '\\x1b',\n",
       " '\\x1c',\n",
       " '\\x1d',\n",
       " '\\x1e',\n",
       " ' ',\n",
       " '!',\n",
       " '\"',\n",
       " '#',\n",
       " '$',\n",
       " '%',\n",
       " '&',\n",
       " '(',\n",
       " ')',\n",
       " '*',\n",
       " '+',\n",
       " '-',\n",
       " '.',\n",
       " '/',\n",
       " '0',\n",
       " '1',\n",
       " '2',\n",
       " '3',\n",
       " '4',\n",
       " '5',\n",
       " '6',\n",
       " '7',\n",
       " '8',\n",
       " '9',\n",
       " ';',\n",
       " '<',\n",
       " '=',\n",
       " '>',\n",
       " '?',\n",
       " '@',\n",
       " '[',\n",
       " '\\\\',\n",
       " ']',\n",
       " '^',\n",
       " '_',\n",
       " '`',\n",
       " 'a',\n",
       " 'b',\n",
       " 'c',\n",
       " 'd',\n",
       " 'e',\n",
       " 'f',\n",
       " 'g',\n",
       " 'h',\n",
       " 'i',\n",
       " 'j',\n",
       " 'k',\n",
       " 'l',\n",
       " 'm',\n",
       " 'n',\n",
       " 'o',\n",
       " 'p',\n",
       " 'q',\n",
       " 'r',\n",
       " 's',\n",
       " 't',\n",
       " 'u',\n",
       " 'v',\n",
       " 'w',\n",
       " 'x',\n",
       " 'y',\n",
       " 'z',\n",
       " '{',\n",
       " '|',\n",
       " '}',\n",
       " '~',\n",
       " '\\x7f',\n",
       " '\\x8d',\n",
       " '\\xa0',\n",
       " '¡',\n",
       " '¨',\n",
       " '«',\n",
       " '°',\n",
       " '±',\n",
       " '²',\n",
       " '³',\n",
       " '´',\n",
       " 'µ',\n",
       " '¶',\n",
       " '·',\n",
       " '¹',\n",
       " 'º',\n",
       " '¼',\n",
       " '¾',\n",
       " '¿',\n",
       " 'ß',\n",
       " 'à',\n",
       " 'á',\n",
       " 'â',\n",
       " 'ä',\n",
       " 'å',\n",
       " 'æ',\n",
       " 'ç',\n",
       " 'è',\n",
       " 'ê',\n",
       " 'í',\n",
       " 'î',\n",
       " 'ï',\n",
       " 'ð',\n",
       " 'ñ',\n",
       " 'ò',\n",
       " 'ó',\n",
       " 'ô',\n",
       " 'õ',\n",
       " 'ö',\n",
       " '÷',\n",
       " 'ù',\n",
       " 'ú',\n",
       " 'û',\n",
       " 'ü',\n",
       " 'ý',\n",
       " 'þ',\n",
       " 'ÿ',\n",
       " 'œ',\n",
       " '—',\n",
       " '‹',\n",
       " '›',\n",
       " '™']"
      ]
     },
     "execution_count": 20,
     "metadata": {},
     "output_type": "execute_result"
    }
   ],
   "source": [
    "vectorizer.get_feature_names()"
   ]
  },
  {
   "cell_type": "code",
   "execution_count": 21,
   "metadata": {},
   "outputs": [
    {
     "data": {
      "text/plain": [
       "<1x132 sparse matrix of type '<class 'numpy.float64'>'\n",
       "\twith 6 stored elements in Compressed Sparse Row format>"
      ]
     },
     "execution_count": 21,
     "metadata": {},
     "output_type": "execute_result"
    }
   ],
   "source": [
    "first_document_vector=X[0]\n",
    "first_document_vector"
   ]
  },
  {
   "cell_type": "code",
   "execution_count": 22,
   "metadata": {},
   "outputs": [
    {
     "data": {
      "text/plain": [
       "matrix([[0.        ],\n",
       "        [0.        ],\n",
       "        [0.        ],\n",
       "        [0.        ],\n",
       "        [0.        ],\n",
       "        [0.        ],\n",
       "        [0.        ],\n",
       "        [0.        ],\n",
       "        [0.        ],\n",
       "        [0.        ],\n",
       "        [0.        ],\n",
       "        [0.        ],\n",
       "        [0.        ],\n",
       "        [0.        ],\n",
       "        [0.        ],\n",
       "        [0.        ],\n",
       "        [0.        ],\n",
       "        [0.        ],\n",
       "        [0.        ],\n",
       "        [0.        ],\n",
       "        [0.        ],\n",
       "        [0.        ],\n",
       "        [0.        ],\n",
       "        [0.        ],\n",
       "        [0.        ],\n",
       "        [0.        ],\n",
       "        [0.        ],\n",
       "        [0.        ],\n",
       "        [0.        ],\n",
       "        [0.        ],\n",
       "        [0.        ],\n",
       "        [0.        ],\n",
       "        [0.        ],\n",
       "        [0.56688659],\n",
       "        [0.        ],\n",
       "        [0.59179423],\n",
       "        [0.        ],\n",
       "        [0.        ],\n",
       "        [0.        ],\n",
       "        [0.        ],\n",
       "        [0.        ],\n",
       "        [0.        ],\n",
       "        [0.        ],\n",
       "        [0.        ],\n",
       "        [0.        ],\n",
       "        [0.        ],\n",
       "        [0.        ],\n",
       "        [0.        ],\n",
       "        [0.        ],\n",
       "        [0.        ],\n",
       "        [0.        ],\n",
       "        [0.        ],\n",
       "        [0.        ],\n",
       "        [0.28556856],\n",
       "        [0.22114544],\n",
       "        [0.        ],\n",
       "        [0.        ],\n",
       "        [0.        ],\n",
       "        [0.        ],\n",
       "        [0.        ],\n",
       "        [0.29203304],\n",
       "        [0.        ],\n",
       "        [0.        ],\n",
       "        [0.        ],\n",
       "        [0.        ],\n",
       "        [0.        ],\n",
       "        [0.        ],\n",
       "        [0.        ],\n",
       "        [0.        ],\n",
       "        [0.        ],\n",
       "        [0.        ],\n",
       "        [0.        ],\n",
       "        [0.        ],\n",
       "        [0.        ],\n",
       "        [0.        ],\n",
       "        [0.33568018],\n",
       "        [0.        ],\n",
       "        [0.        ],\n",
       "        [0.        ],\n",
       "        [0.        ],\n",
       "        [0.        ],\n",
       "        [0.        ],\n",
       "        [0.        ],\n",
       "        [0.        ],\n",
       "        [0.        ],\n",
       "        [0.        ],\n",
       "        [0.        ],\n",
       "        [0.        ],\n",
       "        [0.        ],\n",
       "        [0.        ],\n",
       "        [0.        ],\n",
       "        [0.        ],\n",
       "        [0.        ],\n",
       "        [0.        ],\n",
       "        [0.        ],\n",
       "        [0.        ],\n",
       "        [0.        ],\n",
       "        [0.        ],\n",
       "        [0.        ],\n",
       "        [0.        ],\n",
       "        [0.        ],\n",
       "        [0.        ],\n",
       "        [0.        ],\n",
       "        [0.        ],\n",
       "        [0.        ],\n",
       "        [0.        ],\n",
       "        [0.        ],\n",
       "        [0.        ],\n",
       "        [0.        ],\n",
       "        [0.        ],\n",
       "        [0.        ],\n",
       "        [0.        ],\n",
       "        [0.        ],\n",
       "        [0.        ],\n",
       "        [0.        ],\n",
       "        [0.        ],\n",
       "        [0.        ],\n",
       "        [0.        ],\n",
       "        [0.        ],\n",
       "        [0.        ],\n",
       "        [0.        ],\n",
       "        [0.        ],\n",
       "        [0.        ],\n",
       "        [0.        ],\n",
       "        [0.        ],\n",
       "        [0.        ],\n",
       "        [0.        ],\n",
       "        [0.        ],\n",
       "        [0.        ],\n",
       "        [0.        ],\n",
       "        [0.        ],\n",
       "        [0.        ]])"
      ]
     },
     "execution_count": 22,
     "metadata": {},
     "output_type": "execute_result"
    }
   ],
   "source": [
    "first_document_vector.T.todense()"
   ]
  },
  {
   "cell_type": "code",
   "execution_count": 23,
   "metadata": {},
   "outputs": [
    {
     "data": {
      "text/html": [
       "<div>\n",
       "<style scoped>\n",
       "    .dataframe tbody tr th:only-of-type {\n",
       "        vertical-align: middle;\n",
       "    }\n",
       "\n",
       "    .dataframe tbody tr th {\n",
       "        vertical-align: top;\n",
       "    }\n",
       "\n",
       "    .dataframe thead th {\n",
       "        text-align: right;\n",
       "    }\n",
       "</style>\n",
       "<table border=\"1\" class=\"dataframe\">\n",
       "  <thead>\n",
       "    <tr style=\"text-align: right;\">\n",
       "      <th></th>\n",
       "      <th>TF-IDF</th>\n",
       "    </tr>\n",
       "  </thead>\n",
       "  <tbody>\n",
       "    <tr>\n",
       "      <td>7</td>\n",
       "      <td>0.5917942263951701</td>\n",
       "    </tr>\n",
       "    <tr>\n",
       "      <td>5</td>\n",
       "      <td>0.5668865893705193</td>\n",
       "    </tr>\n",
       "    <tr>\n",
       "      <td>z</td>\n",
       "      <td>0.33568018243472625</td>\n",
       "    </tr>\n",
       "    <tr>\n",
       "      <td>k</td>\n",
       "      <td>0.2920330433336873</td>\n",
       "    </tr>\n",
       "    <tr>\n",
       "      <td>d</td>\n",
       "      <td>0.285568557214099</td>\n",
       "    </tr>\n",
       "    <tr>\n",
       "      <td>e</td>\n",
       "      <td>0.22114543687291865</td>\n",
       "    </tr>\n",
       "    <tr>\n",
       "      <td>µ</td>\n",
       "      <td>0.0</td>\n",
       "    </tr>\n",
       "    <tr>\n",
       "      <td>²</td>\n",
       "      <td>0.0</td>\n",
       "    </tr>\n",
       "    <tr>\n",
       "      <td>³</td>\n",
       "      <td>0.0</td>\n",
       "    </tr>\n",
       "    <tr>\n",
       "      <td>´</td>\n",
       "      <td>0.0</td>\n",
       "    </tr>\n",
       "  </tbody>\n",
       "</table>\n",
       "</div>"
      ],
      "text/plain": [
       "                TF-IDF\n",
       "7   0.5917942263951701\n",
       "5   0.5668865893705193\n",
       "z  0.33568018243472625\n",
       "k   0.2920330433336873\n",
       "d    0.285568557214099\n",
       "e  0.22114543687291865\n",
       "µ                  0.0\n",
       "²                  0.0\n",
       "³                  0.0\n",
       "´                  0.0"
      ]
     },
     "execution_count": 23,
     "metadata": {},
     "output_type": "execute_result"
    }
   ],
   "source": [
    "df=pd.DataFrame(first_document_vector.T.todense(),index=vectorizer.get_feature_names(),columns=['TF-IDF'])\n",
    "df.sort_values(by=['TF-IDF'],ascending=False).astype(str).head(10)"
   ]
  },
  {
   "cell_type": "code",
   "execution_count": 25,
   "metadata": {},
   "outputs": [
    {
     "ename": "SyntaxError",
     "evalue": "EOF while scanning triple-quoted string literal (<ipython-input-25-3a82730b5b8f>, line 4)",
     "output_type": "error",
     "traceback": [
      "\u001b[1;36m  File \u001b[1;32m\"<ipython-input-25-3a82730b5b8f>\"\u001b[1;36m, line \u001b[1;32m4\u001b[0m\n\u001b[1;33m    plt.plot(axis_x,axis_y,'Some features')\u001b[0m\n\u001b[1;37m                                           \n^\u001b[0m\n\u001b[1;31mSyntaxError\u001b[0m\u001b[1;31m:\u001b[0m EOF while scanning triple-quoted string literal\n"
     ]
    }
   ],
   "source": [
    "\"\"\"\n",
    "axis_x=[7,5,z,k,d,e]\n",
    "axis_y=[0.5918009276029468,0.566552171227472,0.3357662739454456,0.2921811569833473,0.2857400335680709,0.22143647704682948]\n",
    "plt.plot(axis_x,axis_y,'Some features')"
   ]
  },
  {
   "cell_type": "markdown",
   "metadata": {},
   "source": [
    "#### split data into train & test\n",
    "    train---> To learn the relationship within data, \n",
    "    test-->  To do predictions, and this testing data will be unseen to my model"
   ]
  },
  {
   "cell_type": "code",
   "execution_count": 26,
   "metadata": {},
   "outputs": [],
   "source": [
    "from sklearn.model_selection import train_test_split"
   ]
  },
  {
   "cell_type": "code",
   "execution_count": 27,
   "metadata": {},
   "outputs": [],
   "source": [
    "X_train, X_test, y_train, y_test=train_test_split(X,y,test_size=0.25)"
   ]
  },
  {
   "cell_type": "code",
   "execution_count": 28,
   "metadata": {},
   "outputs": [
    {
     "data": {
      "text/plain": [
       "(502229, 132)"
      ]
     },
     "execution_count": 28,
     "metadata": {},
     "output_type": "execute_result"
    }
   ],
   "source": [
    "X_train.shape"
   ]
  },
  {
   "cell_type": "code",
   "execution_count": 29,
   "metadata": {},
   "outputs": [],
   "source": [
    "from sklearn.linear_model import LogisticRegression"
   ]
  },
  {
   "cell_type": "code",
   "execution_count": null,
   "metadata": {},
   "outputs": [],
   "source": []
  },
  {
   "cell_type": "markdown",
   "metadata": {},
   "source": [
    "#### Apply Logistic on data as use-cas is Classification"
   ]
  },
  {
   "cell_type": "code",
   "execution_count": 30,
   "metadata": {},
   "outputs": [],
   "source": [
    "clf=LogisticRegression(random_state=0,multi_class='multinomial',n_jobs=5)"
   ]
  },
  {
   "cell_type": "code",
   "execution_count": 31,
   "metadata": {},
   "outputs": [
    {
     "data": {
      "text/plain": [
       "LogisticRegression(multi_class='multinomial', n_jobs=5, random_state=0)"
      ]
     },
     "execution_count": 31,
     "metadata": {},
     "output_type": "execute_result"
    }
   ],
   "source": [
    "clf.fit(X_train,y_train)"
   ]
  },
  {
   "cell_type": "code",
   "execution_count": null,
   "metadata": {},
   "outputs": [],
   "source": []
  },
  {
   "cell_type": "markdown",
   "metadata": {},
   "source": [
    "#### doing prediction for specific custom data"
   ]
  },
  {
   "cell_type": "code",
   "execution_count": 32,
   "metadata": {},
   "outputs": [
    {
     "data": {
      "text/plain": [
       "array([1])"
      ]
     },
     "execution_count": 32,
     "metadata": {},
     "output_type": "execute_result"
    }
   ],
   "source": [
    "dt=np.array(['%@123abcd'])\n",
    "pred=vectorizer.transform(dt)\n",
    "clf.predict(pred)"
   ]
  },
  {
   "cell_type": "markdown",
   "metadata": {},
   "source": [
    "#### doing prediction on X-Test data"
   ]
  },
  {
   "cell_type": "code",
   "execution_count": 33,
   "metadata": {},
   "outputs": [
    {
     "data": {
      "text/plain": [
       "array([1, 1, 2, ..., 1, 1, 1])"
      ]
     },
     "execution_count": 33,
     "metadata": {},
     "output_type": "execute_result"
    }
   ],
   "source": [
    "y_pred=clf.predict(X_test)\n",
    "y_pred"
   ]
  },
  {
   "cell_type": "code",
   "execution_count": null,
   "metadata": {},
   "outputs": [],
   "source": []
  },
  {
   "cell_type": "markdown",
   "metadata": {},
   "source": [
    "#### check Accuracy of your model using confusion_matrix,accuracy_score"
   ]
  },
  {
   "cell_type": "code",
   "execution_count": 34,
   "metadata": {},
   "outputs": [],
   "source": [
    "from sklearn.metrics import confusion_matrix,accuracy_score"
   ]
  },
  {
   "cell_type": "code",
   "execution_count": 35,
   "metadata": {},
   "outputs": [
    {
     "name": "stdout",
     "output_type": "stream",
     "text": [
      "[[  6648  15822     20]\n",
      " [  4878 115862   3203]\n",
      " [    42   6445  14490]]\n",
      "The accuracy is = 0.8183501582940087\n"
     ]
    }
   ],
   "source": [
    "cm=confusion_matrix(y_test,y_pred)\n",
    "print(cm)\n",
    "print(\"The accuracy is =\",accuracy_score(y_test,y_pred))"
   ]
  },
  {
   "cell_type": "code",
   "execution_count": null,
   "metadata": {},
   "outputs": [],
   "source": []
  },
  {
   "cell_type": "markdown",
   "metadata": {},
   "source": [
    "##### classification report"
   ]
  },
  {
   "cell_type": "code",
   "execution_count": 36,
   "metadata": {},
   "outputs": [
    {
     "data": {
      "image/png": "[encoded data removed]",
      "text/plain": [
       "<Figure size 576x396 with 2 Axes>"
      ]
     },
     "metadata": {},
     "output_type": "display_data"
    },
    {
     "data": {
      "text/plain": [
       "<matplotlib.axes._subplots.AxesSubplot at 0x2d9021ce648>"
      ]
     },
     "execution_count": 36,
     "metadata": {},
     "output_type": "execute_result"
    }
   ],
   "source": [
    "from sklearn.metrics import classification_report\n",
    "from yellowbrick.classifier import *\n",
    "visualize=ClassificationReport(clf)\n",
    "visualize.fit(X_train,y_train)\n",
    "visualize.score(X_test,y_test)\n",
    "visualize.show(clear_figure=True)    \n"
   ]
  },
  {
   "cell_type": "code",
   "execution_count": 37,
   "metadata": {},
   "outputs": [
    {
     "data": {
      "text/plain": [
       "array([1, 1, 1, ..., 1, 1, 1])"
      ]
     },
     "execution_count": 37,
     "metadata": {},
     "output_type": "execute_result"
    }
   ],
   "source": [
    "from sklearn.ensemble import RandomForestClassifier\n",
    "forest = RandomForestClassifier(max_depth=5,random_state=2)\n",
    "forest.fit(X_train, y_train)\n",
    "\n",
    "y_pred=forest.predict(X_test)\n",
    "y_pred"
   ]
  },
  {
   "cell_type": "markdown",
   "metadata": {},
   "source": [
    "### Random Forest"
   ]
  },
  {
   "cell_type": "code",
   "execution_count": 38,
   "metadata": {},
   "outputs": [],
   "source": [
    "from sklearn.ensemble import RandomForestClassifier\n",
    "\n",
    "# instantiate the model\n",
    "\n",
    "# fit the model \n",
    "forest.fit(X_train, y_train)\n",
    "\n",
    "#predicting the target value from the model for the samples\n",
    "y_test_forest = forest.predict(X_test)\n",
    "y_train_forest = forest.predict(X_train)"
   ]
  },
  {
   "cell_type": "code",
   "execution_count": 39,
   "metadata": {},
   "outputs": [
    {
     "name": "stdout",
     "output_type": "stream",
     "text": [
      "Random forest: Accuracy on training Data: 0.768\n",
      "Random forest: Accuracy on test Data: 0.768\n"
     ]
    }
   ],
   "source": [
    "acc_train_forest = accuracy_score(y_train,y_train_forest)\n",
    "acc_test_forest = accuracy_score(y_test,y_test_forest)\n",
    "\n",
    "print(\"Random forest: Accuracy on training Data: {:.3f}\".format(acc_train_forest))\n",
    "print(\"Random forest: Accuracy on test Data: {:.3f}\".format(acc_test_forest))\n"
   ]
  },
  {
   "cell_type": "code",
   "execution_count": 40,
   "metadata": {},
   "outputs": [
    {
     "data": {
      "image/png": "[encoded data removed]",
      "text/plain": [
       "<Figure size 576x396 with 2 Axes>"
      ]
     },
     "metadata": {},
     "output_type": "display_data"
    },
    {
     "data": {
      "text/plain": [
       "<matplotlib.axes._subplots.AxesSubplot at 0x2d90459f288>"
      ]
     },
     "execution_count": 40,
     "metadata": {},
     "output_type": "execute_result"
    }
   ],
   "source": [
    "from yellowbrick.classifier import *\n",
    "visualize=ClassificationReport(forest)\n",
    "visualize.fit(X_train,y_train)\n",
    "visualize.score(X_test,y_test)\n",
    "visualize.show(clear_figure=True)"
   ]
  },
  {
   "cell_type": "code",
   "execution_count": null,
   "metadata": {},
   "outputs": [],
   "source": []
  },
  {
   "cell_type": "markdown",
   "metadata": {},
   "source": [
    "## Decision tree"
   ]
  },
  {
   "cell_type": "code",
   "execution_count": 41,
   "metadata": {},
   "outputs": [
    {
     "data": {
      "text/plain": [
       "DecisionTreeClassifier(max_depth=5)"
      ]
     },
     "execution_count": 41,
     "metadata": {},
     "output_type": "execute_result"
    }
   ],
   "source": [
    "# Decision Tree model \n",
    "from sklearn.tree import DecisionTreeClassifier\n",
    "\n",
    "# instantiate the model \n",
    "tree = DecisionTreeClassifier(max_depth = 5)\n",
    "# fit the model \n",
    "tree.fit(X_train, y_train)"
   ]
  },
  {
   "cell_type": "code",
   "execution_count": 42,
   "metadata": {},
   "outputs": [
    {
     "data": {
      "text/plain": [
       "DecisionTreeClassifier(max_depth=5)"
      ]
     },
     "execution_count": 42,
     "metadata": {},
     "output_type": "execute_result"
    }
   ],
   "source": [
    "# Decision Tree model \n",
    "from sklearn.tree import DecisionTreeClassifier\n",
    "\n",
    "# instantiate the model \n",
    "tree = DecisionTreeClassifier(max_depth = 5)\n",
    "# fit the model \n",
    "tree.fit(X_train, y_train)"
   ]
  },
  {
   "cell_type": "code",
   "execution_count": 43,
   "metadata": {},
   "outputs": [],
   "source": [
    "y_test_tree = tree.predict(X_test)\n",
    "y_train_tree = tree.predict(X_train)"
   ]
  },
  {
   "cell_type": "code",
   "execution_count": 44,
   "metadata": {},
   "outputs": [
    {
     "name": "stdout",
     "output_type": "stream",
     "text": [
      "Decision Tree: Accuracy on training Data: 0.813\n",
      "Decision Tree: Accuracy on test Data: 0.813\n"
     ]
    }
   ],
   "source": [
    "#computing the accuracy of the model performance\n",
    "acc_train_tree = accuracy_score(y_train,y_train_tree)\n",
    "acc_test_tree = accuracy_score(y_test,y_test_tree)\n",
    "\n",
    "print(\"Decision Tree: Accuracy on training Data: {:.3f}\".format(acc_train_tree))\n",
    "print(\"Decision Tree: Accuracy on test Data: {:.3f}\".format(acc_test_tree))"
   ]
  },
  {
   "cell_type": "markdown",
   "metadata": {},
   "source": [
    "### Precision recall f-measure"
   ]
  },
  {
   "cell_type": "code",
   "execution_count": 45,
   "metadata": {},
   "outputs": [
    {
     "data": {
      "image/png": "[encoded data removed]",
      "text/plain": [
       "<Figure size 576x396 with 2 Axes>"
      ]
     },
     "metadata": {},
     "output_type": "display_data"
    },
    {
     "data": {
      "text/plain": [
       "<matplotlib.axes._subplots.AxesSubplot at 0x2d90c9085c8>"
      ]
     },
     "execution_count": 45,
     "metadata": {},
     "output_type": "execute_result"
    }
   ],
   "source": [
    "from yellowbrick.classifier import *\n",
    "visualize=ClassificationReport(tree)\n",
    "visualize.fit(X_train,y_train)\n",
    "visualize.score(X_test,y_test)\n",
    "visualize.show(clear_figure=True)"
   ]
  },
  {
   "cell_type": "markdown",
   "metadata": {},
   "source": [
    "## XGBOOST"
   ]
  },
  {
   "cell_type": "code",
   "execution_count": 46,
   "metadata": {},
   "outputs": [
    {
     "name": "stdout",
     "output_type": "stream",
     "text": [
      "[22:32:00] WARNING: ..\\src\\learner.cc:1061: Starting in XGBoost 1.3.0, the default evaluation metric used with the objective 'multi:softprob' was changed from 'merror' to 'mlogloss'. Explicitly set eval_metric if you'd like to restore the old behavior.\n"
     ]
    },
    {
     "data": {
      "text/plain": [
       "XGBClassifier(base_score=0.5, booster='gbtree', colsample_bylevel=1,\n",
       "              colsample_bynode=1, colsample_bytree=1, gamma=0, gpu_id=-1,\n",
       "              importance_type='gain', interaction_constraints='',\n",
       "              learning_rate=0.4, max_delta_step=0, max_depth=7,\n",
       "              min_child_weight=1, missing=nan, monotone_constraints='()',\n",
       "              n_estimators=100, n_jobs=12, num_parallel_tree=1,\n",
       "              objective='multi:softprob', random_state=0, reg_alpha=0,\n",
       "              reg_lambda=1, scale_pos_weight=None, subsample=1,\n",
       "              tree_method='exact', validate_parameters=1, verbosity=None)"
      ]
     },
     "execution_count": 46,
     "metadata": {},
     "output_type": "execute_result"
    }
   ],
   "source": [
    "from xgboost import XGBClassifier\n",
    "\n",
    "# instantiate the model\n",
    "xgb = XGBClassifier(learning_rate=0.4,max_depth=7)\n",
    "#fit the model\n",
    "xgb.fit(X_train, y_train)"
   ]
  },
  {
   "cell_type": "code",
   "execution_count": 47,
   "metadata": {},
   "outputs": [],
   "source": [
    "\n",
    "#predicting the target value from the model for the samples\n",
    "y_test_xgb = xgb.predict(X_test)\n",
    "y_train_xgb = xgb.predict(X_train)"
   ]
  },
  {
   "cell_type": "code",
   "execution_count": 48,
   "metadata": {},
   "outputs": [
    {
     "name": "stdout",
     "output_type": "stream",
     "text": [
      "XGBoost: Accuracy on training Data: 0.996\n",
      "XGBoost : Accuracy on test Data: 0.992\n"
     ]
    }
   ],
   "source": [
    "#computing the accuracy of the model performance\n",
    "acc_train_xgb = accuracy_score(y_train,y_train_xgb)\n",
    "acc_test_xgb = accuracy_score(y_test,y_test_xgb)\n",
    "\n",
    "print(\"XGBoost: Accuracy on training Data: {:.3f}\".format(acc_train_xgb))\n",
    "print(\"XGBoost : Accuracy on test Data: {:.3f}\".format(acc_test_xgb))"
   ]
  },
  {
   "cell_type": "markdown",
   "metadata": {},
   "source": [
    "### precision recall f1 measure"
   ]
  },
  {
   "cell_type": "code",
   "execution_count": 49,
   "metadata": {},
   "outputs": [
    {
     "data": {
      "image/png": "[encoded data removed]",
      "text/plain": [
       "<Figure size 576x396 with 2 Axes>"
      ]
     },
     "metadata": {},
     "output_type": "display_data"
    },
    {
     "data": {
      "text/plain": [
       "<matplotlib.axes._subplots.AxesSubplot at 0x2d90f603948>"
      ]
     },
     "execution_count": 49,
     "metadata": {},
     "output_type": "execute_result"
    }
   ],
   "source": [
    "from yellowbrick.classifier import *\n",
    "visualize=ClassificationReport(xgb)\n",
    "visualize.fit(X_train,y_train)\n",
    "visualize.score(X_test,y_test)\n",
    "visualize.show(clear_figure=True)"
   ]
  },
  {
   "cell_type": "code",
   "execution_count": null,
   "metadata": {},
   "outputs": [],
   "source": []
  }
 ],
 "metadata": {
  "kernelspec": {
   "display_name": "Python 3",
   "language": "python",
   "name": "python3"
  },
  "language_info": {
   "codemirror_mode": {
    "name": "ipython",
    "version": 3
   },
   "file_extension": ".py",
   "mimetype": "text/x-python",
   "name": "python",
   "nbconvert_exporter": "python",
   "pygments_lexer": "ipython3",
   "version": "3.7.4"
  }
 },
 "nbformat": 4,
 "nbformat_minor": 2
}
