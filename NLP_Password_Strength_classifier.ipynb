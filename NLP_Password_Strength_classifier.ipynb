{
 "cells": [
  {
   "cell_type": "code",
   "execution_count": 1,
   "metadata": {},
   "outputs": [],
   "source": [
    "import pandas as pd\n",
    "import numpy as np\n",
    "import seaborn as sns\n",
    "import warnings\n",
    "warnings.filterwarnings('ignore')\n",
    "import matplotlib as mt"
   ]
  },
  {
   "cell_type": "markdown",
   "metadata": {},
   "source": [
    "#### REading dataset"
   ]
  },
  {
   "cell_type": "code",
   "execution_count": 78,
   "metadata": {},
   "outputs": [
    {
     "name": "stderr",
     "output_type": "stream",
     "text": [
      "b'Skipping line 2810: expected 2 fields, saw 5\\nSkipping line 4641: expected 2 fields, saw 5\\nSkipping line 7171: expected 2 fields, saw 5\\nSkipping line 11220: expected 2 fields, saw 5\\nSkipping line 13809: expected 2 fields, saw 5\\nSkipping line 14132: expected 2 fields, saw 5\\nSkipping line 14293: expected 2 fields, saw 5\\nSkipping line 14865: expected 2 fields, saw 5\\nSkipping line 17419: expected 2 fields, saw 5\\nSkipping line 22801: expected 2 fields, saw 5\\nSkipping line 25001: expected 2 fields, saw 5\\nSkipping line 26603: expected 2 fields, saw 5\\nSkipping line 26742: expected 2 fields, saw 5\\nSkipping line 29702: expected 2 fields, saw 5\\nSkipping line 32767: expected 2 fields, saw 5\\nSkipping line 32878: expected 2 fields, saw 5\\nSkipping line 35643: expected 2 fields, saw 5\\nSkipping line 36550: expected 2 fields, saw 5\\nSkipping line 38732: expected 2 fields, saw 5\\nSkipping line 40567: expected 2 fields, saw 5\\nSkipping line 40576: expected 2 fields, saw 5\\nSkipping line 41864: expected 2 fields, saw 5\\nSkipping line 46861: expected 2 fields, saw 5\\nSkipping line 47939: expected 2 fields, saw 5\\nSkipping line 48628: expected 2 fields, saw 5\\nSkipping line 48908: expected 2 fields, saw 5\\nSkipping line 57582: expected 2 fields, saw 5\\nSkipping line 58782: expected 2 fields, saw 5\\nSkipping line 58984: expected 2 fields, saw 5\\nSkipping line 61518: expected 2 fields, saw 5\\nSkipping line 63451: expected 2 fields, saw 5\\nSkipping line 68141: expected 2 fields, saw 5\\nSkipping line 72083: expected 2 fields, saw 5\\nSkipping line 74027: expected 2 fields, saw 5\\nSkipping line 77811: expected 2 fields, saw 5\\nSkipping line 83958: expected 2 fields, saw 5\\nSkipping line 85295: expected 2 fields, saw 5\\nSkipping line 88665: expected 2 fields, saw 5\\nSkipping line 89198: expected 2 fields, saw 5\\nSkipping line 92499: expected 2 fields, saw 5\\nSkipping line 92751: expected 2 fields, saw 5\\nSkipping line 93689: expected 2 fields, saw 5\\nSkipping line 94776: expected 2 fields, saw 5\\nSkipping line 97334: expected 2 fields, saw 5\\nSkipping line 102316: expected 2 fields, saw 5\\nSkipping line 103421: expected 2 fields, saw 5\\nSkipping line 106872: expected 2 fields, saw 5\\nSkipping line 109363: expected 2 fields, saw 5\\nSkipping line 110117: expected 2 fields, saw 5\\nSkipping line 110465: expected 2 fields, saw 5\\nSkipping line 113843: expected 2 fields, saw 5\\nSkipping line 115634: expected 2 fields, saw 5\\nSkipping line 121518: expected 2 fields, saw 5\\nSkipping line 123692: expected 2 fields, saw 5\\nSkipping line 124708: expected 2 fields, saw 5\\nSkipping line 129608: expected 2 fields, saw 5\\nSkipping line 133176: expected 2 fields, saw 5\\nSkipping line 135532: expected 2 fields, saw 5\\nSkipping line 138042: expected 2 fields, saw 5\\nSkipping line 139485: expected 2 fields, saw 5\\nSkipping line 140401: expected 2 fields, saw 5\\nSkipping line 144093: expected 2 fields, saw 5\\nSkipping line 149850: expected 2 fields, saw 5\\nSkipping line 151831: expected 2 fields, saw 5\\nSkipping line 158014: expected 2 fields, saw 5\\nSkipping line 162047: expected 2 fields, saw 5\\nSkipping line 164515: expected 2 fields, saw 5\\nSkipping line 170313: expected 2 fields, saw 5\\nSkipping line 171325: expected 2 fields, saw 5\\nSkipping line 171424: expected 2 fields, saw 5\\nSkipping line 175920: expected 2 fields, saw 5\\nSkipping line 176210: expected 2 fields, saw 5\\nSkipping line 183603: expected 2 fields, saw 5\\nSkipping line 190264: expected 2 fields, saw 5\\nSkipping line 191683: expected 2 fields, saw 5\\nSkipping line 191988: expected 2 fields, saw 5\\nSkipping line 195450: expected 2 fields, saw 5\\nSkipping line 195754: expected 2 fields, saw 5\\nSkipping line 197124: expected 2 fields, saw 5\\nSkipping line 199263: expected 2 fields, saw 5\\nSkipping line 202603: expected 2 fields, saw 5\\nSkipping line 209960: expected 2 fields, saw 5\\nSkipping line 213218: expected 2 fields, saw 5\\nSkipping line 217060: expected 2 fields, saw 5\\nSkipping line 220121: expected 2 fields, saw 5\\nSkipping line 223518: expected 2 fields, saw 5\\nSkipping line 226293: expected 2 fields, saw 5\\nSkipping line 227035: expected 2 fields, saw 7\\nSkipping line 227341: expected 2 fields, saw 5\\nSkipping line 227808: expected 2 fields, saw 5\\nSkipping line 228516: expected 2 fields, saw 5\\nSkipping line 228733: expected 2 fields, saw 5\\nSkipping line 232043: expected 2 fields, saw 5\\nSkipping line 232426: expected 2 fields, saw 5\\nSkipping line 234490: expected 2 fields, saw 5\\nSkipping line 239626: expected 2 fields, saw 5\\nSkipping line 240461: expected 2 fields, saw 5\\nSkipping line 244518: expected 2 fields, saw 5\\nSkipping line 245395: expected 2 fields, saw 5\\nSkipping line 246168: expected 2 fields, saw 5\\nSkipping line 246655: expected 2 fields, saw 5\\nSkipping line 246752: expected 2 fields, saw 5\\nSkipping line 247189: expected 2 fields, saw 5\\nSkipping line 250276: expected 2 fields, saw 5\\nSkipping line 255327: expected 2 fields, saw 5\\nSkipping line 257094: expected 2 fields, saw 5\\n'\n",
      "b'Skipping line 264626: expected 2 fields, saw 5\\nSkipping line 265028: expected 2 fields, saw 5\\nSkipping line 269150: expected 2 fields, saw 5\\nSkipping line 271360: expected 2 fields, saw 5\\nSkipping line 273975: expected 2 fields, saw 5\\nSkipping line 274742: expected 2 fields, saw 5\\nSkipping line 276227: expected 2 fields, saw 5\\nSkipping line 279807: expected 2 fields, saw 5\\nSkipping line 283425: expected 2 fields, saw 5\\nSkipping line 287468: expected 2 fields, saw 5\\nSkipping line 292995: expected 2 fields, saw 5\\nSkipping line 293496: expected 2 fields, saw 5\\nSkipping line 293735: expected 2 fields, saw 5\\nSkipping line 295060: expected 2 fields, saw 5\\nSkipping line 296643: expected 2 fields, saw 5\\nSkipping line 296848: expected 2 fields, saw 5\\nSkipping line 308926: expected 2 fields, saw 5\\nSkipping line 310360: expected 2 fields, saw 5\\nSkipping line 317004: expected 2 fields, saw 5\\nSkipping line 318207: expected 2 fields, saw 5\\nSkipping line 331783: expected 2 fields, saw 5\\nSkipping line 333864: expected 2 fields, saw 5\\nSkipping line 335958: expected 2 fields, saw 5\\nSkipping line 336290: expected 2 fields, saw 5\\nSkipping line 343526: expected 2 fields, saw 5\\nSkipping line 343857: expected 2 fields, saw 5\\nSkipping line 344059: expected 2 fields, saw 5\\nSkipping line 348691: expected 2 fields, saw 5\\nSkipping line 353446: expected 2 fields, saw 5\\nSkipping line 357073: expected 2 fields, saw 5\\nSkipping line 359753: expected 2 fields, saw 5\\nSkipping line 359974: expected 2 fields, saw 5\\nSkipping line 366534: expected 2 fields, saw 5\\nSkipping line 369514: expected 2 fields, saw 5\\nSkipping line 377759: expected 2 fields, saw 5\\nSkipping line 379327: expected 2 fields, saw 5\\nSkipping line 380769: expected 2 fields, saw 5\\nSkipping line 381073: expected 2 fields, saw 5\\nSkipping line 381489: expected 2 fields, saw 5\\nSkipping line 386304: expected 2 fields, saw 5\\nSkipping line 387635: expected 2 fields, saw 5\\nSkipping line 389613: expected 2 fields, saw 5\\nSkipping line 392604: expected 2 fields, saw 5\\nSkipping line 393184: expected 2 fields, saw 5\\nSkipping line 395530: expected 2 fields, saw 5\\nSkipping line 396939: expected 2 fields, saw 5\\nSkipping line 397385: expected 2 fields, saw 5\\nSkipping line 397509: expected 2 fields, saw 5\\nSkipping line 402902: expected 2 fields, saw 5\\nSkipping line 405187: expected 2 fields, saw 5\\nSkipping line 408412: expected 2 fields, saw 5\\nSkipping line 419423: expected 2 fields, saw 5\\nSkipping line 420962: expected 2 fields, saw 5\\nSkipping line 425965: expected 2 fields, saw 5\\nSkipping line 427496: expected 2 fields, saw 5\\nSkipping line 438881: expected 2 fields, saw 5\\nSkipping line 439776: expected 2 fields, saw 5\\nSkipping line 440345: expected 2 fields, saw 5\\nSkipping line 445507: expected 2 fields, saw 5\\nSkipping line 445548: expected 2 fields, saw 5\\nSkipping line 447184: expected 2 fields, saw 5\\nSkipping line 448603: expected 2 fields, saw 5\\nSkipping line 451732: expected 2 fields, saw 5\\nSkipping line 458249: expected 2 fields, saw 5\\nSkipping line 460274: expected 2 fields, saw 5\\nSkipping line 467630: expected 2 fields, saw 5\\nSkipping line 473961: expected 2 fields, saw 5\\nSkipping line 476281: expected 2 fields, saw 5\\nSkipping line 478010: expected 2 fields, saw 5\\nSkipping line 478322: expected 2 fields, saw 5\\nSkipping line 479999: expected 2 fields, saw 5\\nSkipping line 480898: expected 2 fields, saw 5\\nSkipping line 481688: expected 2 fields, saw 5\\nSkipping line 485193: expected 2 fields, saw 5\\nSkipping line 485519: expected 2 fields, saw 5\\nSkipping line 486000: expected 2 fields, saw 5\\nSkipping line 489063: expected 2 fields, saw 5\\nSkipping line 494525: expected 2 fields, saw 5\\nSkipping line 495009: expected 2 fields, saw 5\\nSkipping line 501954: expected 2 fields, saw 5\\nSkipping line 508035: expected 2 fields, saw 5\\nSkipping line 508828: expected 2 fields, saw 5\\nSkipping line 509833: expected 2 fields, saw 5\\nSkipping line 510410: expected 2 fields, saw 5\\nSkipping line 518229: expected 2 fields, saw 5\\nSkipping line 520302: expected 2 fields, saw 5\\nSkipping line 520340: expected 2 fields, saw 5\\n'\n",
      "b'Skipping line 525174: expected 2 fields, saw 5\\nSkipping line 526251: expected 2 fields, saw 5\\nSkipping line 529611: expected 2 fields, saw 5\\nSkipping line 531398: expected 2 fields, saw 5\\nSkipping line 534146: expected 2 fields, saw 5\\nSkipping line 544954: expected 2 fields, saw 5\\nSkipping line 553002: expected 2 fields, saw 5\\nSkipping line 553883: expected 2 fields, saw 5\\nSkipping line 553887: expected 2 fields, saw 5\\nSkipping line 553915: expected 2 fields, saw 5\\nSkipping line 554172: expected 2 fields, saw 5\\nSkipping line 563534: expected 2 fields, saw 5\\nSkipping line 565191: expected 2 fields, saw 5\\nSkipping line 574108: expected 2 fields, saw 5\\nSkipping line 574412: expected 2 fields, saw 5\\nSkipping line 575985: expected 2 fields, saw 5\\nSkipping line 580091: expected 2 fields, saw 5\\nSkipping line 582682: expected 2 fields, saw 5\\nSkipping line 585885: expected 2 fields, saw 5\\nSkipping line 590171: expected 2 fields, saw 5\\nSkipping line 591924: expected 2 fields, saw 5\\nSkipping line 592515: expected 2 fields, saw 5\\nSkipping line 593888: expected 2 fields, saw 5\\nSkipping line 596245: expected 2 fields, saw 5\\nSkipping line 607344: expected 2 fields, saw 5\\nSkipping line 607633: expected 2 fields, saw 5\\nSkipping line 610939: expected 2 fields, saw 5\\nSkipping line 613638: expected 2 fields, saw 5\\nSkipping line 615643: expected 2 fields, saw 5\\nSkipping line 615901: expected 2 fields, saw 5\\nSkipping line 617389: expected 2 fields, saw 5\\nSkipping line 634641: expected 2 fields, saw 5\\nSkipping line 635755: expected 2 fields, saw 5\\nSkipping line 646243: expected 2 fields, saw 5\\nSkipping line 647165: expected 2 fields, saw 5\\nSkipping line 648610: expected 2 fields, saw 5\\nSkipping line 648772: expected 2 fields, saw 5\\nSkipping line 651833: expected 2 fields, saw 5\\nSkipping line 653663: expected 2 fields, saw 5\\nSkipping line 656233: expected 2 fields, saw 5\\nSkipping line 656694: expected 2 fields, saw 5\\nSkipping line 659783: expected 2 fields, saw 5\\nSkipping line 660478: expected 2 fields, saw 5\\nSkipping line 661133: expected 2 fields, saw 5\\nSkipping line 661736: expected 2 fields, saw 5\\nSkipping line 669827: expected 2 fields, saw 5\\n'\n"
     ]
    },
    {
     "data": {
      "text/html": [
       "<div>\n",
       "<style scoped>\n",
       "    .dataframe tbody tr th:only-of-type {\n",
       "        vertical-align: middle;\n",
       "    }\n",
       "\n",
       "    .dataframe tbody tr th {\n",
       "        vertical-align: top;\n",
       "    }\n",
       "\n",
       "    .dataframe thead th {\n",
       "        text-align: right;\n",
       "    }\n",
       "</style>\n",
       "<table border=\"1\" class=\"dataframe\">\n",
       "  <thead>\n",
       "    <tr style=\"text-align: right;\">\n",
       "      <th></th>\n",
       "      <th>password</th>\n",
       "      <th>strength</th>\n",
       "    </tr>\n",
       "  </thead>\n",
       "  <tbody>\n",
       "    <tr>\n",
       "      <td>0</td>\n",
       "      <td>kzde5577</td>\n",
       "      <td>1</td>\n",
       "    </tr>\n",
       "    <tr>\n",
       "      <td>1</td>\n",
       "      <td>kino3434</td>\n",
       "      <td>1</td>\n",
       "    </tr>\n",
       "    <tr>\n",
       "      <td>2</td>\n",
       "      <td>visi7k1yr</td>\n",
       "      <td>1</td>\n",
       "    </tr>\n",
       "    <tr>\n",
       "      <td>3</td>\n",
       "      <td>megzy123</td>\n",
       "      <td>1</td>\n",
       "    </tr>\n",
       "    <tr>\n",
       "      <td>4</td>\n",
       "      <td>lamborghin1</td>\n",
       "      <td>1</td>\n",
       "    </tr>\n",
       "  </tbody>\n",
       "</table>\n",
       "</div>"
      ],
      "text/plain": [
       "      password  strength\n",
       "0     kzde5577         1\n",
       "1     kino3434         1\n",
       "2    visi7k1yr         1\n",
       "3     megzy123         1\n",
       "4  lamborghin1         1"
      ]
     },
     "execution_count": 78,
     "metadata": {},
     "output_type": "execute_result"
    }
   ],
   "source": [
    "data=pd.read_csv('NLP DATASET.csv',error_bad_lines=False)\n",
    "data.head()\n"
   ]
  },
  {
   "cell_type": "code",
   "execution_count": 67,
   "metadata": {},
   "outputs": [
    {
     "data": {
      "text/plain": [
       "array([1, 2, 0], dtype=int64)"
      ]
     },
     "execution_count": 67,
     "metadata": {},
     "output_type": "execute_result"
    }
   ],
   "source": [
    "data['strength'].unique()"
   ]
  },
  {
   "cell_type": "code",
   "execution_count": null,
   "metadata": {},
   "outputs": [],
   "source": []
  },
  {
   "cell_type": "markdown",
   "metadata": {},
   "source": [
    "#### code to check all the missing values in my dataset (Data cleaning)"
   ]
  },
  {
   "cell_type": "code",
   "execution_count": 68,
   "metadata": {},
   "outputs": [
    {
     "data": {
      "text/plain": [
       "password    1\n",
       "strength    0\n",
       "dtype: int64"
      ]
     },
     "execution_count": 68,
     "metadata": {},
     "output_type": "execute_result"
    }
   ],
   "source": [
    "data.isna().sum()"
   ]
  },
  {
   "cell_type": "code",
   "execution_count": 69,
   "metadata": {},
   "outputs": [
    {
     "data": {
      "text/html": [
       "<div>\n",
       "<style scoped>\n",
       "    .dataframe tbody tr th:only-of-type {\n",
       "        vertical-align: middle;\n",
       "    }\n",
       "\n",
       "    .dataframe tbody tr th {\n",
       "        vertical-align: top;\n",
       "    }\n",
       "\n",
       "    .dataframe thead th {\n",
       "        text-align: right;\n",
       "    }\n",
       "</style>\n",
       "<table border=\"1\" class=\"dataframe\">\n",
       "  <thead>\n",
       "    <tr style=\"text-align: right;\">\n",
       "      <th></th>\n",
       "      <th>password</th>\n",
       "      <th>strength</th>\n",
       "    </tr>\n",
       "  </thead>\n",
       "  <tbody>\n",
       "    <tr>\n",
       "      <td>367579</td>\n",
       "      <td>NaN</td>\n",
       "      <td>0</td>\n",
       "    </tr>\n",
       "  </tbody>\n",
       "</table>\n",
       "</div>"
      ],
      "text/plain": [
       "       password  strength\n",
       "367579      NaN         0"
      ]
     },
     "execution_count": 69,
     "metadata": {},
     "output_type": "execute_result"
    }
   ],
   "source": [
    "data[data['password'].isnull()]"
   ]
  },
  {
   "cell_type": "code",
   "execution_count": 70,
   "metadata": {},
   "outputs": [],
   "source": [
    "data.dropna(inplace=True)"
   ]
  },
  {
   "cell_type": "code",
   "execution_count": 71,
   "metadata": {},
   "outputs": [
    {
     "data": {
      "text/plain": [
       "password    0\n",
       "strength    0\n",
       "dtype: int64"
      ]
     },
     "execution_count": 71,
     "metadata": {},
     "output_type": "execute_result"
    }
   ],
   "source": [
    "data.isnull().sum()"
   ]
  },
  {
   "cell_type": "code",
   "execution_count": 72,
   "metadata": {},
   "outputs": [
    {
     "data": {
      "text/plain": [
       "<matplotlib.axes._subplots.AxesSubplot at 0x18493587648>"
      ]
     },
     "execution_count": 72,
     "metadata": {},
     "output_type": "execute_result"
    },
    {
     "data": {
      "image/png": "[encoded data removed]",
      "text/plain": [
       "<Figure size 576x396 with 1 Axes>"
      ]
     },
     "metadata": {},
     "output_type": "display_data"
    }
   ],
   "source": [
    "sns.countplot(data['strength'])"
   ]
  },
  {
   "cell_type": "code",
   "execution_count": 64,
   "metadata": {},
   "outputs": [],
   "source": [
    "password_tuple=np.array(data)"
   ]
  },
  {
   "cell_type": "code",
   "execution_count": 65,
   "metadata": {},
   "outputs": [
    {
     "data": {
      "text/plain": [
       "array([['kzde5577', 1],\n",
       "       ['kino3434', 1],\n",
       "       ['visi7k1yr', 1],\n",
       "       ...,\n",
       "       ['joroce675', 1],\n",
       "       ['kinyxyh382', 1],\n",
       "       ['AbpuybTc4NQ7Xzd3', 2]], dtype=object)"
      ]
     },
     "execution_count": 65,
     "metadata": {},
     "output_type": "execute_result"
    }
   ],
   "source": [
    "password_tuple"
   ]
  },
  {
   "cell_type": "code",
   "execution_count": null,
   "metadata": {},
   "outputs": [],
   "source": []
  },
  {
   "cell_type": "markdown",
   "metadata": {},
   "source": [
    "#### shuffling randomly for robustness and to avoid data imbalance"
   ]
  },
  {
   "cell_type": "code",
   "execution_count": 11,
   "metadata": {},
   "outputs": [],
   "source": [
    "import random\n",
    "random.shuffle(password_tuple)"
   ]
  },
  {
   "cell_type": "code",
   "execution_count": 12,
   "metadata": {},
   "outputs": [],
   "source": [
    "x=[labels[0] for labels in password_tuple]\n",
    "y=[labels[1] for labels in password_tuple]\n"
   ]
  },
  {
   "cell_type": "code",
   "execution_count": 13,
   "metadata": {},
   "outputs": [
    {
     "data": {
      "text/plain": [
       "['kzde5577',\n",
       " 'kzde5577',\n",
       " 'kino3434',\n",
       " 'megzy123',\n",
       " 'visi7k1yr',\n",
       " 'kzde5577',\n",
       " 'u6c8vhow',\n",
       " 'v1118714',\n",
       " 'kzde5577',\n",
       " 'universe2908',\n",
       " 'megzy123',\n",
       " 'universe2908',\n",
       " 'AVYq1lDE4MgAZfNt',\n",
       " 'WUt9IZzE0OQ7PkNE',\n",
       " 'kzde5577',\n",
       " 'g067057895',\n",
       " 'AVYq1lDE4MgAZfNt',\n",
       " 'kzde5577',\n",
       " 'idofo673',\n",
       " 'visi7k1yr',\n",
       " 'jytifok873',\n",
       " 'megzy123',\n",
       " '612035180tok',\n",
       " 'universe2908',\n",
       " 'jerusalem393',\n",
       " 'universe2908',\n",
       " 'sbl571017',\n",
       " 'lamborghin1',\n",
       " 'jytifok873',\n",
       " 'megzy123',\n",
       " 'prisonbreak1',\n",
       " 'u6c8vhow',\n",
       " 'faranumar91',\n",
       " 'go7kew7a2po',\n",
       " 'gaymaids1',\n",
       " 'kino3434',\n",
       " 'asgaliu11',\n",
       " 'fk9qi21m',\n",
       " 'fk9qi21m',\n",
       " 'jerusalem393',\n",
       " '52558000aaa',\n",
       " 'fahad123',\n",
       " 'WUt9IZzE0OQ7PkNE',\n",
       " 'czuodhj972',\n",
       " 'lsdlsd1',\n",
       " 'faranumar91',\n",
       " 'faranumar91',\n",
       " '52558000aaa',\n",
       " 'a2531106',\n",
       " 'cigicigi123',\n",
       " 'idofo673',\n",
       " '6975038lp',\n",
       " 'olmaz.',\n",
       " 'c3h8bkzr',\n",
       " 'faranumar91',\n",
       " 'hpqkoxsn5',\n",
       " 'olmaz.',\n",
       " 'prisonbreak1',\n",
       " 'olmaz.',\n",
       " 'klara-tershina3H',\n",
       " 'lsdlsd1',\n",
       " 'as326159',\n",
       " 'matiofox08',\n",
       " 'TyWM72UNEex8Q8Y',\n",
       " 'sknq7m0',\n",
       " 'yqugu927',\n",
       " 'schalke04',\n",
       " 'patri1973',\n",
       " 'alimagik1',\n",
       " 'as326159',\n",
       " 'jytifok873',\n",
       " 'trabajonet9',\n",
       " '6975038lp',\n",
       " 'pHyqueDIyNQ8vmhb',\n",
       " 'schalke04',\n",
       " '6975038lp',\n",
       " 'hodygid757',\n",
       " '283671gus',\n",
       " 'TyWM72UNEex8Q8Y',\n",
       " 'intel1',\n",
       " 'fk9qi21m',\n",
       " 'juliel009',\n",
       " 'juliana19',\n",
       " 'patri1973',\n",
       " 'visi7k1yr',\n",
       " 'ga98SIzk0NwhiZaE',\n",
       " 'alimagik1',\n",
       " 'memjan123',\n",
       " 'asgaliu11',\n",
       " 'TyWM72UNEex8Q8Y',\n",
       " 'hodygid757',\n",
       " 'hayhayq2',\n",
       " 'intel1',\n",
       " 'u6c8vhow',\n",
       " 'asgaliu11',\n",
       " 'cigicigi123',\n",
       " 'juliana19',\n",
       " 'yllime123',\n",
       " 'bgrvl80',\n",
       " 'go7kew7a2po',\n",
       " 'intel1',\n",
       " 'b4NbTxDEyNgG141J',\n",
       " 'bgrvl80',\n",
       " 'il0vey0u',\n",
       " 'patri1973',\n",
       " 'calcifer32',\n",
       " 'asv5o9yu',\n",
       " 'khmer100.03278&?><Mnb',\n",
       " '838188linh',\n",
       " 'go7kew7a2po',\n",
       " 's4m2dx9e6',\n",
       " 'woon12',\n",
       " 'schalke04',\n",
       " 'ga98SIzk0NwhiZaE',\n",
       " 'schalke04',\n",
       " 'ga98SIzk0NwhiZaE',\n",
       " 'schalke04',\n",
       " 'j09000',\n",
       " 'juliel009',\n",
       " 'WUt9IZzE0OQ7PkNE',\n",
       " 'gaymaids1',\n",
       " 'hayhayq2',\n",
       " 'mmm23mm',\n",
       " 'j09000',\n",
       " 'kjkjkj1',\n",
       " 'portales1',\n",
       " 'znbl5tj1',\n",
       " '2akira2',\n",
       " 'd04m11',\n",
       " 'xyws951753',\n",
       " 'kswa2mrv',\n",
       " 'p2share',\n",
       " 'yllime123',\n",
       " 'p2share',\n",
       " 'znbl5tj1',\n",
       " 'c3h8bkzr',\n",
       " 'mickael12',\n",
       " 'kVczcljg4OA25Aeb',\n",
       " 'a2531106',\n",
       " 'bozoxik602',\n",
       " 'kino3434',\n",
       " 'sknq7m0',\n",
       " '929865yt',\n",
       " 'RqsuUsDYxNgr8T40',\n",
       " 'czuodhj972',\n",
       " 'xiau5ff',\n",
       " 'elonex24',\n",
       " 'obstacle25',\n",
       " '2yz4ewwg',\n",
       " 'elonex24',\n",
       " 'jUV4dSDQwNwPpA36',\n",
       " 'w9209640',\n",
       " 'WUt9IZzE0OQ7PkNE',\n",
       " 'v1118714',\n",
       " 'mmm23mm',\n",
       " '123maxbala',\n",
       " 'hayhayq2',\n",
       " '3vszncp4',\n",
       " 'cigicigi123',\n",
       " 'yuri110995',\n",
       " 'alimagik1',\n",
       " 'bgrvl80',\n",
       " 'WUt9IZzE0OQ7PkNE',\n",
       " 'gkrqjs6',\n",
       " 'Iamthelegend1!',\n",
       " 'jalal123456',\n",
       " 'rogyh820',\n",
       " 'kinga22',\n",
       " 'gill02',\n",
       " 'faranumar91',\n",
       " '20Dgw7TQ0OQVdly7',\n",
       " 'sanki1',\n",
       " 'idofo673',\n",
       " '6975038lp',\n",
       " 'vehat387',\n",
       " 'lamborghin1',\n",
       " 'ikanez886',\n",
       " 'puegwajy416',\n",
       " 'meopvywk628',\n",
       " 'alchimie79',\n",
       " 'qn5xpg3k00',\n",
       " '147963asd',\n",
       " 'calcifer32',\n",
       " 'jytifok873',\n",
       " 'z3ro1sm',\n",
       " 'ekufite742',\n",
       " 'd04m11',\n",
       " 'warriors08',\n",
       " '3y6iwef2g6',\n",
       " 'RPFUOUDQwMwVW0AS',\n",
       " 'cesarmaio1',\n",
       " 'gill02',\n",
       " '0870330135a',\n",
       " 'yuri110995',\n",
       " '838188linh',\n",
       " 'cesarmaio1',\n",
       " 'a0972986650',\n",
       " 'yu4cmn',\n",
       " 'juliel009',\n",
       " '0169395484a',\n",
       " 'wxS2ztDk4OATjBfI',\n",
       " '2010server',\n",
       " 'prisonbreak1',\n",
       " '64959rodro',\n",
       " 'fk9qi21m',\n",
       " 'obstacle25',\n",
       " 'tia150979',\n",
       " 'kswa2mrv',\n",
       " 'memjan123',\n",
       " 's0xwym7h',\n",
       " 'zgmfnwuq25',\n",
       " 'x8512514',\n",
       " 'yitbos77',\n",
       " '3vszncp4',\n",
       " 'vgnfs495vp',\n",
       " 'znbl5tj1',\n",
       " 'fk9qi21m',\n",
       " 'elonex24',\n",
       " 'meriton23',\n",
       " 'mmm23mm',\n",
       " 'obstacle25',\n",
       " 'ikanez886',\n",
       " 'rntprns7',\n",
       " 'xiau5ff',\n",
       " 'kinga22',\n",
       " 'sbl571017',\n",
       " 'ok>bdk',\n",
       " 'change201',\n",
       " '746xitEGiqObog',\n",
       " 'qn5xpg3k00',\n",
       " 'z3ro1sm',\n",
       " 'fk9qi21m',\n",
       " 'universe2908',\n",
       " 'wibi182d',\n",
       " 'jytifok873',\n",
       " 'xyws951753',\n",
       " 'go7kew7a2po',\n",
       " 'il0vey0u',\n",
       " 'ga98SIzk0NwhiZaE',\n",
       " 'X9WVojjE4MgVAIiR',\n",
       " 'cigicigi123',\n",
       " 'k1k2k3k4k5k6',\n",
       " 'omakiva153',\n",
       " 'wycinu436',\n",
       " 'tamanagung6',\n",
       " 'yuri110995',\n",
       " 'gtlek',\n",
       " 'v1118714',\n",
       " '612035180tok',\n",
       " 'yk530mg8',\n",
       " 'w9209640',\n",
       " 'jalal123456',\n",
       " 'tomas7896',\n",
       " 'virush1n1',\n",
       " 'b4NbTxDEyNgG141J',\n",
       " 'lamborghin1',\n",
       " 'prisonbreak1',\n",
       " 'cigicigi123',\n",
       " 'lamborghin1',\n",
       " 'barboza221294',\n",
       " 'RPFUOUDQwMwVW0AS',\n",
       " 'ga98SIzk0NwhiZaE',\n",
       " 'x8512514',\n",
       " 'gill02',\n",
       " 'xiau5ff',\n",
       " 'idofo673',\n",
       " 'X9WVojjE4MgVAIiR',\n",
       " '612035180tok',\n",
       " 'bgrvl80',\n",
       " 'tucagu356',\n",
       " 'finisterra1',\n",
       " 'warriors08',\n",
       " 'v10rica',\n",
       " 'as326159',\n",
       " '5gzj5uf',\n",
       " 'xW8-3w7-MFB-CKH',\n",
       " '147963asd',\n",
       " 'snolyuj04',\n",
       " '0870330135a',\n",
       " '20Dgw7TQ0OQVdly7',\n",
       " '159951josh',\n",
       " 's0xwym7h',\n",
       " 'wibi182d',\n",
       " '1972vishara',\n",
       " 'asv5o9yu',\n",
       " 'potatobus150',\n",
       " 'jalingo1',\n",
       " '283671gus',\n",
       " 'ikanez886',\n",
       " 'faranumar91',\n",
       " 'trabajonet9',\n",
       " 'yu4cmn',\n",
       " 'change201',\n",
       " 'yitbos77',\n",
       " 'xlxlxl777',\n",
       " 'kino3434',\n",
       " 'u6c8vhow',\n",
       " 'lzhzad1989',\n",
       " '159951josh',\n",
       " 'yk530mg8',\n",
       " 'WUt9IZzE0OQ7PkNE',\n",
       " '1972vishara',\n",
       " '4osxw4r',\n",
       " 'robot425',\n",
       " 'zoobike04',\n",
       " 'kswa2mrv',\n",
       " 'v1118714',\n",
       " 'g3rappa',\n",
       " 'sbaUsoTA1OAzuevI',\n",
       " 'yut0838828185',\n",
       " 'koabcswzt3',\n",
       " 'ppnyadam09',\n",
       " 'warriors08',\n",
       " 'portales1',\n",
       " '0870330135a',\n",
       " 'polo2014',\n",
       " 'bozoxik602',\n",
       " 'kry1z9',\n",
       " 'idofo673',\n",
       " 'x8512514',\n",
       " 'pHyqueDIyNQ8vmhb',\n",
       " 'z888888',\n",
       " 'omakiva153',\n",
       " 'kswa2mrv',\n",
       " 'ebacuro434',\n",
       " 'yy4129',\n",
       " 'tahseen75',\n",
       " 'a0972986650',\n",
       " 'kitty555',\n",
       " 'b4NbTxDEyNgG141J',\n",
       " 'icap12',\n",
       " 'sanki1',\n",
       " 'bugatti01',\n",
       " 'igejasy712',\n",
       " 'zgmfnwuq25',\n",
       " 'sofietou74',\n",
       " 'tin030201',\n",
       " 'uxyloga692',\n",
       " 'sydney213',\n",
       " 'kenneth610',\n",
       " 'xiau5ff',\n",
       " 'juliana19',\n",
       " 'a0972986650',\n",
       " '0870330135a',\n",
       " '07dpv1127b',\n",
       " 'nokia6020',\n",
       " 'yitbos77',\n",
       " 'portales1',\n",
       " 'go7kew7a2po',\n",
       " 'frhnsvelhfr1',\n",
       " 'yy4129',\n",
       " 'AVYq1lDE4MgAZfNt',\n",
       " 'acetita478',\n",
       " '2yz4ewwg',\n",
       " 'acetita478',\n",
       " 'lsdlsd1',\n",
       " 'bugatti01',\n",
       " '1ngaymuadong',\n",
       " 'metopelo1623',\n",
       " 'moken7',\n",
       " '4osxw4r',\n",
       " 'krishna2',\n",
       " 'lsdlsd1',\n",
       " 'kyodai666',\n",
       " '3vszncp4',\n",
       " 'rntprns7',\n",
       " 'calcifer32',\n",
       " 'pikey231',\n",
       " 'gkrqjs6',\n",
       " 'fk9qi21m',\n",
       " 'rntprns7',\n",
       " 'a2531106',\n",
       " 'taurofive16',\n",
       " 'a03242241431a',\n",
       " 'a03242241431a',\n",
       " 'laedbchsx687',\n",
       " 'mario489800',\n",
       " 'hayhayq2',\n",
       " '929865yt',\n",
       " 'AVYq1lDE4MgAZfNt',\n",
       " 'yy4129',\n",
       " 'teste10',\n",
       " 'lzhzad1989',\n",
       " 'z7zbgIDkzMQeHUd9',\n",
       " 'okn9zp9o',\n",
       " 'rntprns7',\n",
       " 'njmania114',\n",
       " 'mayur@8netinfotech',\n",
       " 'change201',\n",
       " 'nK0yKXTU0NQHZE2e',\n",
       " 'peluchin4',\n",
       " 'e667794c1d',\n",
       " '12345yolanda',\n",
       " 'senghong2009',\n",
       " 'tin030201',\n",
       " 'gtlek',\n",
       " 'klara-tershina3H',\n",
       " 'tia150979',\n",
       " 'IjUcOtYqAwel725',\n",
       " '0VKWoODkwOAc0pZK',\n",
       " 'frhnsvelhfr1',\n",
       " 'potatobus150',\n",
       " 'yzxwvgbdu503',\n",
       " 'a0972986650',\n",
       " '2010server',\n",
       " 'kayal123',\n",
       " 'YADHJIGSAWS11',\n",
       " 'omakiva153',\n",
       " '4osxw4r',\n",
       " '4fqa52vecr',\n",
       " 'damyvo114',\n",
       " 'VMjz4eTkxNAbOyUU',\n",
       " 'd4xQ3LjUwMQFVCYQ',\n",
       " 'x8512514',\n",
       " 'kunyukbabi69',\n",
       " 'warriors08',\n",
       " 'potatobus150',\n",
       " '12345yolanda',\n",
       " 'JEQuloqOFUd102',\n",
       " '123net123',\n",
       " 'demon10',\n",
       " 'khurram_',\n",
       " 'desmondkok21',\n",
       " 'oioo9og',\n",
       " 'cristiano7',\n",
       " 'u03kz6ez',\n",
       " '631ihOZogELoVap',\n",
       " 'uou2dae',\n",
       " 'jEzZXUTE3MgJ4fVk',\n",
       " 'cdann123',\n",
       " 'fahad123',\n",
       " 'zidadoh258',\n",
       " 'xtswdypgh936',\n",
       " 'ikanez886',\n",
       " 'metopelo1623',\n",
       " 'Oshity07142014',\n",
       " '52558000aaa',\n",
       " 'gozv3e5',\n",
       " 'markama10',\n",
       " 'rqmswof2llb0',\n",
       " 'asgaliu11',\n",
       " 'owote852',\n",
       " 'a2486315',\n",
       " 'aosmaxd0',\n",
       " 'sknq7m0',\n",
       " 'alchimie79',\n",
       " 'teste10',\n",
       " 'y0unus',\n",
       " 'sanki1',\n",
       " 'XqMB7vDMzOQocAFV',\n",
       " 'rakag279',\n",
       " 'q0pv0fk',\n",
       " 'isqizkg1',\n",
       " 'u6c8vhow',\n",
       " 'a2531106',\n",
       " 'a110804032',\n",
       " 'weicat12',\n",
       " 'tukaxo486',\n",
       " 'cockw0mble',\n",
       " 'cerner09',\n",
       " 'go7kew7a2po',\n",
       " 'icap12',\n",
       " 't8IkFRDIxMAFV2JW',\n",
       " 'kdl9cl53',\n",
       " 'tamanagung6',\n",
       " 'kyodai666',\n",
       " '2yz4ewwg',\n",
       " 'franczuk33',\n",
       " 'b4NbTxDEyNgG141J',\n",
       " 'barboza221294',\n",
       " 'snolyuj04',\n",
       " 'we34dar88',\n",
       " 'sanki1',\n",
       " 'v10rica',\n",
       " 'polo2014',\n",
       " 'enziitoo1234',\n",
       " 'idofo673',\n",
       " '64whbrb351',\n",
       " 'saule123',\n",
       " 'n501iomf',\n",
       " 'peluchin4',\n",
       " 'pugceya468',\n",
       " '7942vikas',\n",
       " 'wuzyci421',\n",
       " '19821010a',\n",
       " 'uxyloga692',\n",
       " 'www32223222',\n",
       " 'a0972986650',\n",
       " 'viri13',\n",
       " 'ocadezi586',\n",
       " 'aio42fv',\n",
       " 'u6c8vhow',\n",
       " 'pazzini24',\n",
       " 'balamuc123',\n",
       " 'parent777',\n",
       " '2akira2',\n",
       " 'DTUQG5jU5MwmR1L9',\n",
       " 'woogee04',\n",
       " 'roxana1993',\n",
       " 'Ju6BIMTU0MwYXtL4',\n",
       " 'gtlek',\n",
       " 'cesarmaio1',\n",
       " 'a2531106',\n",
       " 'vgnfs495vp',\n",
       " 'paulino123',\n",
       " 'wo9aiwangyan',\n",
       " 'jalingo1',\n",
       " 'gerardway1',\n",
       " 'princ3sa',\n",
       " 'aosmaxd0',\n",
       " 'bc5e4vca',\n",
       " 'password0880',\n",
       " 'czuodhj972',\n",
       " 'mayur@8netinfotech',\n",
       " 'fk9qi21m',\n",
       " 'peluchin4',\n",
       " 'jUV4dSDQwNwPpA36',\n",
       " 'portales1',\n",
       " 'sanki1',\n",
       " '2021848709.',\n",
       " 'www32223222',\n",
       " 'mazdarx7',\n",
       " '16731673ir',\n",
       " 'k1k2k3k4k5k6',\n",
       " 'osimeytju12',\n",
       " 'ryjypes139',\n",
       " 'amoadios321',\n",
       " 'nokia6020',\n",
       " '2010server',\n",
       " 'portales1',\n",
       " '123maxbala',\n",
       " 'XqMB7vDMzOQocAFV',\n",
       " 'mustang337',\n",
       " 'nello11',\n",
       " 'ekufite742',\n",
       " 'kXzWOozU2MQ1Jv1h',\n",
       " 'barboza221294',\n",
       " 'pablo321159',\n",
       " 'sandra0547',\n",
       " 'sw10d014',\n",
       " 'atigi839',\n",
       " 'ayles2266',\n",
       " '12345yolanda',\n",
       " 'eVl19ADIxNAmU09N',\n",
       " 'xf6385494',\n",
       " 'j09000',\n",
       " '0112358mayin0',\n",
       " 'RPFUOUDQwMwVW0AS',\n",
       " 'xp;ysmybst',\n",
       " 'b4NbTxDEyNgG141J',\n",
       " 'zjl0kx03',\n",
       " 'folashade1',\n",
       " 'pHyqueDIyNQ8vmhb',\n",
       " 'cUFUSYKIPuGo024',\n",
       " 'm4r4hne',\n",
       " '16731673ir',\n",
       " 'ejeko677',\n",
       " 'znbl5tj1',\n",
       " 'metopelo1623',\n",
       " 'kuntz80',\n",
       " 'jEzZXUTE3MgJ4fVk',\n",
       " 'oscar2002',\n",
       " 'cesarmaio1',\n",
       " 'yu4cmn',\n",
       " 'AS0130066',\n",
       " '0169395484a',\n",
       " 'mathilde54550',\n",
       " '10Erjrlmebup0n',\n",
       " 'gkrqjs6',\n",
       " 'g067057895',\n",
       " 'yu4cmn',\n",
       " 'olyucskw52',\n",
       " 'potatobus150',\n",
       " 'wibi182d',\n",
       " 'c3h8bkzr',\n",
       " 'sergius1964',\n",
       " 'aquhih220',\n",
       " '600eretz',\n",
       " 'zu20081965',\n",
       " 'folashade1',\n",
       " 'Scipio21152030067254',\n",
       " '3CgRg8DA1NQY1iEj',\n",
       " 's4m2dx9e6',\n",
       " 'sydney213',\n",
       " 'metopelo1623',\n",
       " 'bencike7',\n",
       " 'd4xQ3LjUwMQFVCYQ',\n",
       " '64whbrb351',\n",
       " 'pHyqueDIyNQ8vmhb',\n",
       " 'p2share',\n",
       " 'seller1',\n",
       " 'rakag279',\n",
       " 'megzy123',\n",
       " 'planes123',\n",
       " 'wbtdrieus345',\n",
       " 'p@sslng2diword',\n",
       " 'olyucskw52',\n",
       " 'marita1',\n",
       " 'viri13',\n",
       " 'iubat09',\n",
       " 'nicolas05',\n",
       " 'grazi0201',\n",
       " 'mario489800',\n",
       " 'yk530mg8',\n",
       " '16731673ir',\n",
       " 'peluchin4',\n",
       " '1qa2ws3ed4rf',\n",
       " 'satelite31',\n",
       " '1katertje',\n",
       " 'kabrito1',\n",
       " 'vardhan19',\n",
       " '4lgYVfzk1MwuzHcn',\n",
       " 's4m2dx9e6',\n",
       " 'djngeyut2707',\n",
       " 'asakapa22',\n",
       " 'frhnsvelhfr1',\n",
       " 'sergius1964',\n",
       " 'fbjurcd961',\n",
       " 'wibi182d',\n",
       " 'oekojWyH120063',\n",
       " 'owote852',\n",
       " 'marita1',\n",
       " 'parent777',\n",
       " 'memjan123',\n",
       " 'yqugu927',\n",
       " 'z888888',\n",
       " 'asv5o9yu',\n",
       " 'xlxlxl777',\n",
       " 'obstacle25',\n",
       " 'gkrqjs6',\n",
       " 'sysoja794',\n",
       " 'sbaUsoTA1OAzuevI',\n",
       " 'seng987321',\n",
       " 'v10rica',\n",
       " 'seller1',\n",
       " 'sono11',\n",
       " '123477889a',\n",
       " 'c3h8bkzr',\n",
       " 'may112001',\n",
       " 'kevin24',\n",
       " 'k1k2k3k4k5k6',\n",
       " 'p3rf3ct0',\n",
       " '123net123',\n",
       " 'oscar2002',\n",
       " '0VKWoODkwOAc0pZK',\n",
       " '1katertje',\n",
       " 'cdann123',\n",
       " 'a03242241431a',\n",
       " 'obstacle25',\n",
       " 'holamundo1',\n",
       " 'koabcswzt3',\n",
       " 'klara-tershina3H',\n",
       " 'pilatyj280',\n",
       " 'witek1709',\n",
       " '5874813o',\n",
       " '1qa2ws3ed4r',\n",
       " 'jr88072635',\n",
       " 'han19660120',\n",
       " 'xf6385494',\n",
       " 'xve33ea',\n",
       " 'sono11',\n",
       " 'GGmm26120904..',\n",
       " 'samael666',\n",
       " 'UF1Z2WjE5Mg26R1K',\n",
       " 'potatobus150',\n",
       " 'jesmond26',\n",
       " 'Oshity07142014',\n",
       " 'ass359',\n",
       " 'skoda06',\n",
       " 'x8512514',\n",
       " 'viri13',\n",
       " 'mohantra1',\n",
       " 'WUt9IZzE0OQ7PkNE',\n",
       " 'gkrqjs6',\n",
       " 'megzy123',\n",
       " 'yzxwvgbdu503',\n",
       " 'BZVQZBTM1MApRV7s',\n",
       " 'yy4129',\n",
       " 'clumsy0619',\n",
       " 'pxjwmeqyn5',\n",
       " 'hotdog20',\n",
       " 'qn5xpg3k00',\n",
       " 'u03kz6ez',\n",
       " 'wearehis7',\n",
       " '9950twofour0',\n",
       " 'g067057895',\n",
       " 'kah4544875',\n",
       " 'overlord3127',\n",
       " 'moken7',\n",
       " '123nicole',\n",
       " 'yitbos77',\n",
       " 'juliana19',\n",
       " '746xitEGiqObog',\n",
       " 'warriors08',\n",
       " 'h1h2h3h4h5',\n",
       " 'rakag279',\n",
       " 'vietnga92',\n",
       " 'n501iomf',\n",
       " 'RqsuUsDYxNgr8T40',\n",
       " 'njmania114',\n",
       " 'asv5o9yu',\n",
       " 'peluchin4',\n",
       " 'overlord3127',\n",
       " 'yk530mg8',\n",
       " 'Herzberg@ABBOTT33656888commerce',\n",
       " 'alodise603',\n",
       " 'iL1BEmTUyMg8YYbn',\n",
       " 'poluxyj32',\n",
       " 'jntjmh7',\n",
       " 'mmm23mm',\n",
       " 'studenko123',\n",
       " 'arigato3',\n",
       " 'iL1BEmTUyMg8YYbn',\n",
       " '1597535youssi',\n",
       " 'cyborged69',\n",
       " 'gerardway1',\n",
       " 'xve33ea',\n",
       " 'portales1',\n",
       " 'portales1',\n",
       " 'jbtcnd6',\n",
       " 'tspirits08',\n",
       " 'aqyba894',\n",
       " 'igejasy712',\n",
       " 'marita1',\n",
       " 'RRaa--72783530081984',\n",
       " 'onurb1994',\n",
       " '4fqa52vecr',\n",
       " 'princ3sa',\n",
       " 'matha81',\n",
       " '0870330135a',\n",
       " 'ykfums1',\n",
       " 'poseidon2011',\n",
       " 'universe2908',\n",
       " 'osimeytju12',\n",
       " 'deivid1991',\n",
       " '612035180tok',\n",
       " 'saule123',\n",
       " 'lugerp08',\n",
       " 'cribrot1200',\n",
       " 'y0unus',\n",
       " 'hola45',\n",
       " '727nimdadre',\n",
       " 'd6VyrkFV6oblxNs5N8cW',\n",
       " 'sysoja794',\n",
       " '2021848709.',\n",
       " 'pedronha96',\n",
       " 'ayles2266',\n",
       " 'yami12',\n",
       " 'matiz4533',\n",
       " '26522876p',\n",
       " 'control9',\n",
       " 'kubafu77',\n",
       " 'synyxyr723',\n",
       " 's9830950044',\n",
       " 'barboza221294',\n",
       " 'xzeyfbi495',\n",
       " 'poluxyj32',\n",
       " 'lqksuym982',\n",
       " '72o0yzekib4',\n",
       " 'uzifyc502',\n",
       " 'xtswdypgh936',\n",
       " '123456rajput',\n",
       " '1qa2ws3ed4rf',\n",
       " '1991vikash',\n",
       " 'mtvwyz001',\n",
       " 'novelia21',\n",
       " 'aio42fv',\n",
       " 'nK0yKXTU0NQHZE2e',\n",
       " 'sha122511',\n",
       " 'sarahi1628',\n",
       " 'barra23',\n",
       " 'spl51190595',\n",
       " '2akira2',\n",
       " 'webhostv1t1n',\n",
       " '00J46LTAxMgME7C4',\n",
       " 'DRAGON25',\n",
       " 'isqizkg1',\n",
       " 'znbl5tj1',\n",
       " 'kenyu001',\n",
       " 'guliotth82',\n",
       " 'p2share',\n",
       " 'pukiw102',\n",
       " 'akucinta12',\n",
       " 'byeypb2',\n",
       " '33kanun03',\n",
       " 'yhwbzci130',\n",
       " '4TXr5KDYxNQVTo4g',\n",
       " 'vehat387',\n",
       " 'hqh2eYjQxOQPYIsA',\n",
       " '101010hadis',\n",
       " 'ginger972',\n",
       " 'IRZA98',\n",
       " 'xp;ysmybst',\n",
       " 'J0LcDWDc2NAVE8j3',\n",
       " 'skoda06',\n",
       " 'jeeves123',\n",
       " 'wisal1234',\n",
       " 'rLLh4WDQ2OAWbDO5',\n",
       " 'adfbwrnt4',\n",
       " 'kubafu77',\n",
       " 'aziz098765',\n",
       " '2d0d7qfz',\n",
       " 'omakiva153',\n",
       " '2652033abc',\n",
       " 'butisugo39',\n",
       " 'e667794c1d',\n",
       " 'balamuc123',\n",
       " 'zcsntdmhe098',\n",
       " 'wisal1234',\n",
       " 'trust123',\n",
       " 'juliana19',\n",
       " 'cesarmaio1',\n",
       " 'cerner09',\n",
       " 'pizxmwaos537',\n",
       " 'yeko69',\n",
       " 'a03242241431a',\n",
       " 'patty94',\n",
       " 'ebogel225',\n",
       " 'nello11',\n",
       " 'sergius1964',\n",
       " 'sydney213',\n",
       " 'IRZA98',\n",
       " 'ydd45ee',\n",
       " 'alhama11408',\n",
       " 'aio42fv',\n",
       " 'hello2104',\n",
       " 'koabcswzt3',\n",
       " 'virush1n1',\n",
       " 'portales1',\n",
       " 't8IkFRDIxMAFV2JW',\n",
       " 'tia150979',\n",
       " 'coy29061994',\n",
       " 'nLIGyhTU1NQTAp6u',\n",
       " 'wuzsadav933',\n",
       " 'pugceya468',\n",
       " '123456ts',\n",
       " '123maxbala',\n",
       " 'matiofox08',\n",
       " 'azizi120583',\n",
       " 'beijing168',\n",
       " 'v1s2c3456',\n",
       " 'nhfdff2512',\n",
       " '123net123',\n",
       " '1ug2UKzQyMQBsleD',\n",
       " 'Scipio21152030067254',\n",
       " 'asdasdf1',\n",
       " '0lELoCDI1NAy8u7D',\n",
       " 'kXzWOozU2MQ1Jv1h',\n",
       " 'ziKYRyqewaxE717',\n",
       " 'darza6534',\n",
       " 'bc5e4vca',\n",
       " 'daaxvie1',\n",
       " 'pato221182',\n",
       " 'beijing168',\n",
       " 'medebizu3',\n",
       " 'qwekl12',\n",
       " 'a0972986650',\n",
       " 'mialr325',\n",
       " 'jose30209',\n",
       " 'vietnga92',\n",
       " 'ga98SIzk0NwhiZaE',\n",
       " 'wearehis7',\n",
       " 'shooting1965j',\n",
       " 'kciseba24521',\n",
       " 'ydkmujrze3',\n",
       " 'bafiqkxwu0',\n",
       " 'intel1',\n",
       " 'asdasdf1',\n",
       " '94311163nobp',\n",
       " 'ldteugao6',\n",
       " 'jannia5',\n",
       " 'just1n0k',\n",
       " 'patty94',\n",
       " 'faisal213',\n",
       " 's0xwym7h',\n",
       " 'muoaqxwc21',\n",
       " 'gedu1t1ah',\n",
       " 'y0unus',\n",
       " 'olmaz.',\n",
       " 'WUt9IZzE0OQ7PkNE',\n",
       " '1satguru1',\n",
       " 'tin030201',\n",
       " '1ug2UKzQyMQBsleD',\n",
       " 'ivanxl33t010',\n",
       " 'falre1524',\n",
       " 'gdfn76',\n",
       " 'p@sslng2diword',\n",
       " 'elabadmin1386',\n",
       " 'shH3t7TcyOQwKRLt',\n",
       " 'MT766631',\n",
       " 'mickael12',\n",
       " 'xanyrum650',\n",
       " 'chiefwanker1',\n",
       " 'kenyu001',\n",
       " 'ykfums1',\n",
       " 'growerz543',\n",
       " 'j03l4ytr1',\n",
       " 'sono11',\n",
       " 'raykuaz32',\n",
       " '23deagosto',\n",
       " 'ayles2266',\n",
       " 'ebuchkakat1',\n",
       " 'xanyrum650',\n",
       " 'intel1',\n",
       " 'yami12',\n",
       " 'jose30209',\n",
       " 'elabadmin1386',\n",
       " 'ic8i6ac',\n",
       " '3clrcaevu7',\n",
       " 'sarahi1628',\n",
       " 'tPGMkBjkyMg3hGzu',\n",
       " 'ydd45ee',\n",
       " 'elabadmin1386',\n",
       " 'azerty32',\n",
       " 'pekai2004',\n",
       " 'walterivl13',\n",
       " 'upyjlneg80',\n",
       " 'il0vey0u',\n",
       " 'hello2104',\n",
       " '123456789YO',\n",
       " 'mdaffandi74',\n",
       " 'guliotth82',\n",
       " 'ahibyg892',\n",
       " 'BZVQZBTM1MApRV7s',\n",
       " 'yitbos77',\n",
       " 'clyioqzgw42',\n",
       " 'SLAEgyTk0OQxphJq',\n",
       " 'amoadios321',\n",
       " 'fudijep286',\n",
       " 'wo9aiwangyan',\n",
       " 'b4NbTxDEyNgG141J',\n",
       " 'z3ro1sm',\n",
       " 'q0pv0fk',\n",
       " 'nelva20',\n",
       " 'vietnga92',\n",
       " 'uvazyd135',\n",
       " 'josef0867',\n",
       " 'qn5xpg3k00',\n",
       " 'mosad999',\n",
       " '1qa2ws3ed4r',\n",
       " '123maxbala',\n",
       " 'mmm23mm',\n",
       " 'julie1989',\n",
       " 'ajyrew547',\n",
       " 'jcav26',\n",
       " '123456ts',\n",
       " 'mehmet4524572',\n",
       " 'maulana79',\n",
       " 'kayal123',\n",
       " 'hard7ware',\n",
       " 'elonex24',\n",
       " 'pato221182',\n",
       " 'cyborged69',\n",
       " 'e667794c1d',\n",
       " 'omakiva153',\n",
       " 'ukyzopi369',\n",
       " 'ydd45ee',\n",
       " 'kenyu001',\n",
       " 'm4r4hne',\n",
       " 'midgeman8505',\n",
       " 'mzhrmir786',\n",
       " 'b9m7cxcgc',\n",
       " 'han19660120',\n",
       " 'yesenia52',\n",
       " 's4m2dx9e6',\n",
       " 'sydney213',\n",
       " 'tollak123',\n",
       " 'ineedyou23',\n",
       " 'RPFUOUDQwMwVW0AS',\n",
       " 'Iamthelegend1!',\n",
       " 'tim80327',\n",
       " 'tamanagung6',\n",
       " 'iwaguh884',\n",
       " 'technofolle95',\n",
       " '6U3xJzDE3Nggz3L1',\n",
       " 'njmania114',\n",
       " 'sd6x9s3s',\n",
       " 'paulino123',\n",
       " '01161590m',\n",
       " 'kitty555',\n",
       " 'kate13',\n",
       " 'patrisa84',\n",
       " 'kayal123',\n",
       " 'n501iomf',\n",
       " 'kinga22',\n",
       " 'jrj7tst383lv',\n",
       " 'sasuke4',\n",
       " 'ppnyadam09',\n",
       " 'yamiburgo1',\n",
       " 'aliki123',\n",
       " 'mustang337',\n",
       " 'pekai2004',\n",
       " 'prisonbreak1',\n",
       " 'omakiva153',\n",
       " 'd04m11',\n",
       " 'medebizu3',\n",
       " 'demon10',\n",
       " 'goony01',\n",
       " 'lymuvop730',\n",
       " 'openup12',\n",
       " ...]"
      ]
     },
     "execution_count": 13,
     "metadata": {},
     "output_type": "execute_result"
    }
   ],
   "source": [
    "x"
   ]
  },
  {
   "cell_type": "code",
   "execution_count": null,
   "metadata": {},
   "outputs": [],
   "source": []
  },
  {
   "cell_type": "markdown",
   "metadata": {},
   "source": [
    "#### create a custom function to split input into characters of list"
   ]
  },
  {
   "cell_type": "code",
   "execution_count": 14,
   "metadata": {},
   "outputs": [],
   "source": [
    "def word_divide_char(inputs):\n",
    "    character=[]\n",
    "    for i in inputs:\n",
    "        character.append(i)\n",
    "    return character"
   ]
  },
  {
   "cell_type": "code",
   "execution_count": 15,
   "metadata": {},
   "outputs": [
    {
     "data": {
      "text/plain": [
       "['k', 'z', 'd', 'e', '5', '5', '7', '7']"
      ]
     },
     "execution_count": 15,
     "metadata": {},
     "output_type": "execute_result"
    }
   ],
   "source": [
    "word_divide_char('kzde5577')"
   ]
  },
  {
   "cell_type": "code",
   "execution_count": null,
   "metadata": {},
   "outputs": [],
   "source": []
  },
  {
   "cell_type": "markdown",
   "metadata": {},
   "source": [
    "#### import TF-IDF vectorizer to convert String data into numerical data"
   ]
  },
  {
   "cell_type": "code",
   "execution_count": 16,
   "metadata": {},
   "outputs": [],
   "source": [
    "from sklearn.feature_extraction.text import TfidfVectorizer"
   ]
  },
  {
   "cell_type": "code",
   "execution_count": 17,
   "metadata": {},
   "outputs": [],
   "source": [
    "vectorizer=TfidfVectorizer(tokenizer=word_divide_char)"
   ]
  },
  {
   "cell_type": "markdown",
   "metadata": {},
   "source": [
    "#### apply TF-IDF vectorizer on data"
   ]
  },
  {
   "cell_type": "code",
   "execution_count": 18,
   "metadata": {},
   "outputs": [],
   "source": [
    "X=vectorizer.fit_transform(x)"
   ]
  },
  {
   "cell_type": "code",
   "execution_count": 19,
   "metadata": {},
   "outputs": [
    {
     "data": {
      "text/plain": [
       "(669639, 131)"
      ]
     },
     "execution_count": 19,
     "metadata": {},
     "output_type": "execute_result"
    }
   ],
   "source": [
    "X.shape"
   ]
  },
  {
   "cell_type": "code",
   "execution_count": 20,
   "metadata": {},
   "outputs": [
    {
     "data": {
      "text/plain": [
       "['\\x05',\n",
       " '\\x08',\n",
       " '\\x0f',\n",
       " '\\x10',\n",
       " '\\x11',\n",
       " '\\x13',\n",
       " '\\x16',\n",
       " '\\x17',\n",
       " '\\x18',\n",
       " '\\x19',\n",
       " '\\x1b',\n",
       " '\\x1c',\n",
       " '\\x1d',\n",
       " '\\x1e',\n",
       " ' ',\n",
       " '!',\n",
       " '\"',\n",
       " '#',\n",
       " '$',\n",
       " '%',\n",
       " '&',\n",
       " '(',\n",
       " ')',\n",
       " '*',\n",
       " '+',\n",
       " '-',\n",
       " '.',\n",
       " '/',\n",
       " '0',\n",
       " '1',\n",
       " '2',\n",
       " '3',\n",
       " '4',\n",
       " '5',\n",
       " '6',\n",
       " '7',\n",
       " '8',\n",
       " '9',\n",
       " ';',\n",
       " '<',\n",
       " '=',\n",
       " '>',\n",
       " '?',\n",
       " '@',\n",
       " '[',\n",
       " '\\\\',\n",
       " ']',\n",
       " '^',\n",
       " '_',\n",
       " '`',\n",
       " 'a',\n",
       " 'b',\n",
       " 'c',\n",
       " 'd',\n",
       " 'e',\n",
       " 'f',\n",
       " 'g',\n",
       " 'h',\n",
       " 'i',\n",
       " 'j',\n",
       " 'k',\n",
       " 'l',\n",
       " 'm',\n",
       " 'n',\n",
       " 'o',\n",
       " 'p',\n",
       " 'q',\n",
       " 'r',\n",
       " 's',\n",
       " 't',\n",
       " 'u',\n",
       " 'v',\n",
       " 'w',\n",
       " 'x',\n",
       " 'y',\n",
       " 'z',\n",
       " '{',\n",
       " '|',\n",
       " '}',\n",
       " '~',\n",
       " '\\x7f',\n",
       " '\\x81',\n",
       " '\\x8d',\n",
       " '\\xa0',\n",
       " '¡',\n",
       " '¤',\n",
       " '¦',\n",
       " '¨',\n",
       " '«',\n",
       " '°',\n",
       " '±',\n",
       " '²',\n",
       " '³',\n",
       " '´',\n",
       " 'µ',\n",
       " '·',\n",
       " 'º',\n",
       " '¼',\n",
       " '¾',\n",
       " '¿',\n",
       " '×',\n",
       " 'ß',\n",
       " 'à',\n",
       " 'á',\n",
       " 'â',\n",
       " 'ä',\n",
       " 'å',\n",
       " 'æ',\n",
       " 'ç',\n",
       " 'è',\n",
       " 'ê',\n",
       " 'í',\n",
       " 'ï',\n",
       " 'ð',\n",
       " 'ñ',\n",
       " 'ò',\n",
       " 'ó',\n",
       " 'ô',\n",
       " 'õ',\n",
       " 'ö',\n",
       " '÷',\n",
       " 'ú',\n",
       " 'û',\n",
       " 'ü',\n",
       " 'ý',\n",
       " 'þ',\n",
       " 'ÿ',\n",
       " 'œ',\n",
       " '‚',\n",
       " '‹',\n",
       " '›']"
      ]
     },
     "execution_count": 20,
     "metadata": {},
     "output_type": "execute_result"
    }
   ],
   "source": [
    "vectorizer.get_feature_names()"
   ]
  },
  {
   "cell_type": "code",
   "execution_count": 21,
   "metadata": {},
   "outputs": [
    {
     "data": {
      "text/plain": [
       "<1x131 sparse matrix of type '<class 'numpy.float64'>'\n",
       "\twith 6 stored elements in Compressed Sparse Row format>"
      ]
     },
     "execution_count": 21,
     "metadata": {},
     "output_type": "execute_result"
    }
   ],
   "source": [
    "first_document_vector=X[0]\n",
    "first_document_vector"
   ]
  },
  {
   "cell_type": "code",
   "execution_count": 22,
   "metadata": {},
   "outputs": [
    {
     "data": {
      "text/plain": [
       "matrix([[0.        ],\n",
       "        [0.        ],\n",
       "        [0.        ],\n",
       "        [0.        ],\n",
       "        [0.        ],\n",
       "        [0.        ],\n",
       "        [0.        ],\n",
       "        [0.        ],\n",
       "        [0.        ],\n",
       "        [0.        ],\n",
       "        [0.        ],\n",
       "        [0.        ],\n",
       "        [0.        ],\n",
       "        [0.        ],\n",
       "        [0.        ],\n",
       "        [0.        ],\n",
       "        [0.        ],\n",
       "        [0.        ],\n",
       "        [0.        ],\n",
       "        [0.        ],\n",
       "        [0.        ],\n",
       "        [0.        ],\n",
       "        [0.        ],\n",
       "        [0.        ],\n",
       "        [0.        ],\n",
       "        [0.        ],\n",
       "        [0.        ],\n",
       "        [0.        ],\n",
       "        [0.        ],\n",
       "        [0.        ],\n",
       "        [0.        ],\n",
       "        [0.        ],\n",
       "        [0.        ],\n",
       "        [0.56667573],\n",
       "        [0.        ],\n",
       "        [0.59173102],\n",
       "        [0.        ],\n",
       "        [0.        ],\n",
       "        [0.        ],\n",
       "        [0.        ],\n",
       "        [0.        ],\n",
       "        [0.        ],\n",
       "        [0.        ],\n",
       "        [0.        ],\n",
       "        [0.        ],\n",
       "        [0.        ],\n",
       "        [0.        ],\n",
       "        [0.        ],\n",
       "        [0.        ],\n",
       "        [0.        ],\n",
       "        [0.        ],\n",
       "        [0.        ],\n",
       "        [0.        ],\n",
       "        [0.285454  ],\n",
       "        [0.22132262],\n",
       "        [0.        ],\n",
       "        [0.        ],\n",
       "        [0.        ],\n",
       "        [0.        ],\n",
       "        [0.        ],\n",
       "        [0.29199338],\n",
       "        [0.        ],\n",
       "        [0.        ],\n",
       "        [0.        ],\n",
       "        [0.        ],\n",
       "        [0.        ],\n",
       "        [0.        ],\n",
       "        [0.        ],\n",
       "        [0.        ],\n",
       "        [0.        ],\n",
       "        [0.        ],\n",
       "        [0.        ],\n",
       "        [0.        ],\n",
       "        [0.        ],\n",
       "        [0.        ],\n",
       "        [0.33616246],\n",
       "        [0.        ],\n",
       "        [0.        ],\n",
       "        [0.        ],\n",
       "        [0.        ],\n",
       "        [0.        ],\n",
       "        [0.        ],\n",
       "        [0.        ],\n",
       "        [0.        ],\n",
       "        [0.        ],\n",
       "        [0.        ],\n",
       "        [0.        ],\n",
       "        [0.        ],\n",
       "        [0.        ],\n",
       "        [0.        ],\n",
       "        [0.        ],\n",
       "        [0.        ],\n",
       "        [0.        ],\n",
       "        [0.        ],\n",
       "        [0.        ],\n",
       "        [0.        ],\n",
       "        [0.        ],\n",
       "        [0.        ],\n",
       "        [0.        ],\n",
       "        [0.        ],\n",
       "        [0.        ],\n",
       "        [0.        ],\n",
       "        [0.        ],\n",
       "        [0.        ],\n",
       "        [0.        ],\n",
       "        [0.        ],\n",
       "        [0.        ],\n",
       "        [0.        ],\n",
       "        [0.        ],\n",
       "        [0.        ],\n",
       "        [0.        ],\n",
       "        [0.        ],\n",
       "        [0.        ],\n",
       "        [0.        ],\n",
       "        [0.        ],\n",
       "        [0.        ],\n",
       "        [0.        ],\n",
       "        [0.        ],\n",
       "        [0.        ],\n",
       "        [0.        ],\n",
       "        [0.        ],\n",
       "        [0.        ],\n",
       "        [0.        ],\n",
       "        [0.        ],\n",
       "        [0.        ],\n",
       "        [0.        ],\n",
       "        [0.        ],\n",
       "        [0.        ],\n",
       "        [0.        ],\n",
       "        [0.        ],\n",
       "        [0.        ]])"
      ]
     },
     "execution_count": 22,
     "metadata": {},
     "output_type": "execute_result"
    }
   ],
   "source": [
    "first_document_vector.T.todense()"
   ]
  },
  {
   "cell_type": "code",
   "execution_count": 23,
   "metadata": {},
   "outputs": [
    {
     "data": {
      "text/html": [
       "<div>\n",
       "<style scoped>\n",
       "    .dataframe tbody tr th:only-of-type {\n",
       "        vertical-align: middle;\n",
       "    }\n",
       "\n",
       "    .dataframe tbody tr th {\n",
       "        vertical-align: top;\n",
       "    }\n",
       "\n",
       "    .dataframe thead th {\n",
       "        text-align: right;\n",
       "    }\n",
       "</style>\n",
       "<table border=\"1\" class=\"dataframe\">\n",
       "  <thead>\n",
       "    <tr style=\"text-align: right;\">\n",
       "      <th></th>\n",
       "      <th>TF-IDF</th>\n",
       "    </tr>\n",
       "  </thead>\n",
       "  <tbody>\n",
       "    <tr>\n",
       "      <td>7</td>\n",
       "      <td>0.591731</td>\n",
       "    </tr>\n",
       "    <tr>\n",
       "      <td>5</td>\n",
       "      <td>0.566676</td>\n",
       "    </tr>\n",
       "    <tr>\n",
       "      <td>z</td>\n",
       "      <td>0.336162</td>\n",
       "    </tr>\n",
       "    <tr>\n",
       "      <td>k</td>\n",
       "      <td>0.291993</td>\n",
       "    </tr>\n",
       "    <tr>\n",
       "      <td>d</td>\n",
       "      <td>0.285454</td>\n",
       "    </tr>\n",
       "    <tr>\n",
       "      <td>...</td>\n",
       "      <td>...</td>\n",
       "    </tr>\n",
       "    <tr>\n",
       "      <td>&lt;</td>\n",
       "      <td>0.000000</td>\n",
       "    </tr>\n",
       "    <tr>\n",
       "      <td>;</td>\n",
       "      <td>0.000000</td>\n",
       "    </tr>\n",
       "    <tr>\n",
       "      <td>9</td>\n",
       "      <td>0.000000</td>\n",
       "    </tr>\n",
       "    <tr>\n",
       "      <td>8</td>\n",
       "      <td>0.000000</td>\n",
       "    </tr>\n",
       "    <tr>\n",
       "      <td>›</td>\n",
       "      <td>0.000000</td>\n",
       "    </tr>\n",
       "  </tbody>\n",
       "</table>\n",
       "<p>131 rows × 1 columns</p>\n",
       "</div>"
      ],
      "text/plain": [
       "      TF-IDF\n",
       "7   0.591731\n",
       "5   0.566676\n",
       "z   0.336162\n",
       "k   0.291993\n",
       "d   0.285454\n",
       "..       ...\n",
       "<   0.000000\n",
       ";   0.000000\n",
       "9   0.000000\n",
       "8   0.000000\n",
       "›   0.000000\n",
       "\n",
       "[131 rows x 1 columns]"
      ]
     },
     "execution_count": 23,
     "metadata": {},
     "output_type": "execute_result"
    }
   ],
   "source": [
    "df=pd.DataFrame(first_document_vector.T.todense(),index=vectorizer.get_feature_names(),columns=['TF-IDF'])\n",
    "df.sort_values(by=['TF-IDF'],ascending=False)"
   ]
  },
  {
   "cell_type": "code",
   "execution_count": null,
   "metadata": {},
   "outputs": [],
   "source": []
  },
  {
   "cell_type": "markdown",
   "metadata": {},
   "source": [
    "#### split data into train & test\n",
    "    train---> To learn the relationship within data, \n",
    "    test-->  To do predictions, and this testing data will be unseen to my model"
   ]
  },
  {
   "cell_type": "code",
   "execution_count": 24,
   "metadata": {},
   "outputs": [],
   "source": [
    "from sklearn.model_selection import train_test_split"
   ]
  },
  {
   "cell_type": "code",
   "execution_count": 25,
   "metadata": {},
   "outputs": [],
   "source": [
    "X_train, X_test, y_train, y_test=train_test_split(X,y,test_size=0.25)"
   ]
  },
  {
   "cell_type": "code",
   "execution_count": 26,
   "metadata": {},
   "outputs": [
    {
     "data": {
      "text/plain": [
       "(502229, 131)"
      ]
     },
     "execution_count": 26,
     "metadata": {},
     "output_type": "execute_result"
    }
   ],
   "source": [
    "X_train.shape"
   ]
  },
  {
   "cell_type": "code",
   "execution_count": 27,
   "metadata": {},
   "outputs": [],
   "source": [
    "from sklearn.linear_model import LogisticRegression"
   ]
  },
  {
   "cell_type": "code",
   "execution_count": null,
   "metadata": {},
   "outputs": [],
   "source": []
  },
  {
   "cell_type": "markdown",
   "metadata": {},
   "source": [
    "#### Apply Logistic on data as use-cas is Classification"
   ]
  },
  {
   "cell_type": "code",
   "execution_count": 28,
   "metadata": {},
   "outputs": [],
   "source": [
    "clf=LogisticRegression(random_state=0,multi_class='multinomial',n_jobs=5)"
   ]
  },
  {
   "cell_type": "code",
   "execution_count": 29,
   "metadata": {},
   "outputs": [
    {
     "data": {
      "text/plain": [
       "LogisticRegression(multi_class='multinomial', n_jobs=5, random_state=0)"
      ]
     },
     "execution_count": 29,
     "metadata": {},
     "output_type": "execute_result"
    }
   ],
   "source": [
    "clf.fit(X_train,y_train)"
   ]
  },
  {
   "cell_type": "code",
   "execution_count": null,
   "metadata": {},
   "outputs": [],
   "source": []
  },
  {
   "cell_type": "markdown",
   "metadata": {},
   "source": [
    "#### doing prediction for specific custom data"
   ]
  },
  {
   "cell_type": "code",
   "execution_count": 30,
   "metadata": {},
   "outputs": [
    {
     "data": {
      "text/plain": [
       "array([1])"
      ]
     },
     "execution_count": 30,
     "metadata": {},
     "output_type": "execute_result"
    }
   ],
   "source": [
    "dt=np.array(['%@123abcd'])\n",
    "pred=vectorizer.transform(dt)\n",
    "clf.predict(pred)"
   ]
  },
  {
   "cell_type": "code",
   "execution_count": null,
   "metadata": {},
   "outputs": [],
   "source": []
  },
  {
   "cell_type": "markdown",
   "metadata": {},
   "source": [
    "#### doing prediction on X-Test data"
   ]
  },
  {
   "cell_type": "code",
   "execution_count": 31,
   "metadata": {},
   "outputs": [
    {
     "data": {
      "text/plain": [
       "array([1, 1, 2, ..., 1, 1, 1])"
      ]
     },
     "execution_count": 31,
     "metadata": {},
     "output_type": "execute_result"
    }
   ],
   "source": [
    "y_pred=clf.predict(X_test)\n",
    "y_pred"
   ]
  },
  {
   "cell_type": "code",
   "execution_count": null,
   "metadata": {},
   "outputs": [],
   "source": []
  },
  {
   "cell_type": "markdown",
   "metadata": {},
   "source": [
    "#### check Accuracy of your model using confusion_matrix,accuracy_score"
   ]
  },
  {
   "cell_type": "code",
   "execution_count": 32,
   "metadata": {},
   "outputs": [],
   "source": [
    "from sklearn.metrics import confusion_matrix,accuracy_score"
   ]
  },
  {
   "cell_type": "code",
   "execution_count": 33,
   "metadata": {},
   "outputs": [
    {
     "name": "stdout",
     "output_type": "stream",
     "text": [
      "[[  6524  16185     17]\n",
      " [  4741 116113   3182]\n",
      " [    57   6365  14226]]\n",
      "The accuracy is = 0.8175318081357147\n"
     ]
    }
   ],
   "source": [
    "cm=confusion_matrix(y_test,y_pred)\n",
    "print(cm)\n",
    "print(\"The accuracy is =\",accuracy_score(y_test,y_pred))"
   ]
  },
  {
   "cell_type": "code",
   "execution_count": null,
   "metadata": {},
   "outputs": [],
   "source": []
  },
  {
   "cell_type": "markdown",
   "metadata": {},
   "source": [
    "##### create report of your model"
   ]
  },
  {
   "cell_type": "code",
   "execution_count": 34,
   "metadata": {},
   "outputs": [
    {
     "data": {
      "image/png": "[encoded data removed]",
      "text/plain": [
       "<Figure size 576x396 with 2 Axes>"
      ]
     },
     "metadata": {},
     "output_type": "display_data"
    },
    {
     "data": {
      "text/plain": [
       "<matplotlib.axes._subplots.AxesSubplot at 0x18484a5c388>"
      ]
     },
     "execution_count": 34,
     "metadata": {},
     "output_type": "execute_result"
    }
   ],
   "source": [
    "from sklearn.metrics import classification_report\n",
    "from yellowbrick.classifier import *\n",
    "visualize=ClassificationReport(clf)\n",
    "visualize.fit(X_train,y_train)\n",
    "visualize.score(X_test,y_test)\n",
    "visualize.show(clear_figure=True)    \n"
   ]
  },
  {
   "cell_type": "code",
   "execution_count": 47,
   "metadata": {},
   "outputs": [
    {
     "data": {
      "text/plain": [
       "array([1, 1, 1, ..., 1, 1, 1])"
      ]
     },
     "execution_count": 47,
     "metadata": {},
     "output_type": "execute_result"
    }
   ],
   "source": [
    "from sklearn.ensemble import RandomForestClassifier\n",
    "forest = RandomForestClassifier(max_depth=5,random_state=1)\n",
    "forest.fit(X_train, y_train)\n",
    "\n",
    "y_pred=forest.predict(X_test)\n",
    "y_pred"
   ]
  },
  {
   "cell_type": "markdown",
   "metadata": {},
   "source": [
    "### Random Forest"
   ]
  },
  {
   "cell_type": "code",
   "execution_count": 43,
   "metadata": {},
   "outputs": [],
   "source": [
    "from sklearn.ensemble import RandomForestClassifier\n",
    "\n",
    "# instantiate the model\n",
    "\n",
    "# fit the model \n",
    "forest.fit(X_train, y_train)\n",
    "\n",
    "#predicting the target value from the model for the samples\n",
    "y_test_forest = forest.predict(X_test)\n",
    "y_train_forest = forest.predict(X_train)"
   ]
  },
  {
   "cell_type": "code",
   "execution_count": 44,
   "metadata": {},
   "outputs": [
    {
     "name": "stdout",
     "output_type": "stream",
     "text": [
      "Random forest: Accuracy on training Data: 0.768\n",
      "Random forest: Accuracy on test Data: 0.766\n"
     ]
    }
   ],
   "source": [
    "acc_train_forest = accuracy_score(y_train,y_train_forest)\n",
    "acc_test_forest = accuracy_score(y_test,y_test_forest)\n",
    "\n",
    "print(\"Random forest: Accuracy on training Data: {:.3f}\".format(acc_train_forest))\n",
    "print(\"Random forest: Accuracy on test Data: {:.3f}\".format(acc_test_forest))\n"
   ]
  },
  {
   "cell_type": "code",
   "execution_count": 45,
   "metadata": {},
   "outputs": [
    {
     "data": {
      "image/png": "[encoded data removed]",
      "text/plain": [
       "<Figure size 576x396 with 2 Axes>"
      ]
     },
     "metadata": {},
     "output_type": "display_data"
    },
    {
     "data": {
      "text/plain": [
       "<matplotlib.axes._subplots.AxesSubplot at 0x184893bca88>"
      ]
     },
     "execution_count": 45,
     "metadata": {},
     "output_type": "execute_result"
    }
   ],
   "source": [
    "from yellowbrick.classifier import *\n",
    "visualize=ClassificationReport(forest)\n",
    "visualize.fit(X_train,y_train)\n",
    "visualize.score(X_test,y_test)\n",
    "visualize.show(clear_figure=True)"
   ]
  },
  {
   "cell_type": "markdown",
   "metadata": {},
   "source": [
    "## Decision tree"
   ]
  },
  {
   "cell_type": "code",
   "execution_count": 73,
   "metadata": {},
   "outputs": [
    {
     "data": {
      "text/plain": [
       "DecisionTreeClassifier(max_depth=5)"
      ]
     },
     "execution_count": 73,
     "metadata": {},
     "output_type": "execute_result"
    }
   ],
   "source": [
    "# Decision Tree model \n",
    "from sklearn.tree import DecisionTreeClassifier\n",
    "\n",
    "# instantiate the model \n",
    "tree = DecisionTreeClassifier(max_depth = 5)\n",
    "# fit the model \n",
    "tree.fit(X_train, y_train)"
   ]
  },
  {
   "cell_type": "code",
   "execution_count": 76,
   "metadata": {},
   "outputs": [
    {
     "data": {
      "text/plain": [
       "DecisionTreeClassifier(max_depth=5)"
      ]
     },
     "execution_count": 76,
     "metadata": {},
     "output_type": "execute_result"
    }
   ],
   "source": [
    "# Decision Tree model \n",
    "from sklearn.tree import DecisionTreeClassifier\n",
    "\n",
    "# instantiate the model \n",
    "tree = DecisionTreeClassifier(max_depth = 5)\n",
    "# fit the model \n",
    "tree.fit(X_train, y_train)"
   ]
  },
  {
   "cell_type": "code",
   "execution_count": 77,
   "metadata": {},
   "outputs": [
    {
     "ename": "NameError",
     "evalue": "name 'y_train_tree' is not defined",
     "output_type": "error",
     "traceback": [
      "\u001b[1;31m---------------------------------------------------------------------------\u001b[0m",
      "\u001b[1;31mNameError\u001b[0m                                 Traceback (most recent call last)",
      "\u001b[1;32m<ipython-input-77-b7cdb6a3037a>\u001b[0m in \u001b[0;36m<module>\u001b[1;34m\u001b[0m\n\u001b[0;32m      1\u001b[0m \u001b[1;31m#computing the accuracy of the model performance\u001b[0m\u001b[1;33m\u001b[0m\u001b[1;33m\u001b[0m\u001b[1;33m\u001b[0m\u001b[0m\n\u001b[1;32m----> 2\u001b[1;33m \u001b[0macc_train_tree\u001b[0m \u001b[1;33m=\u001b[0m \u001b[0maccuracy_score\u001b[0m\u001b[1;33m(\u001b[0m\u001b[0my_train\u001b[0m\u001b[1;33m,\u001b[0m\u001b[0my_train_tree\u001b[0m\u001b[1;33m)\u001b[0m\u001b[1;33m\u001b[0m\u001b[1;33m\u001b[0m\u001b[0m\n\u001b[0m\u001b[0;32m      3\u001b[0m \u001b[0macc_test_tree\u001b[0m \u001b[1;33m=\u001b[0m \u001b[0maccuracy_score\u001b[0m\u001b[1;33m(\u001b[0m\u001b[0my_test\u001b[0m\u001b[1;33m,\u001b[0m\u001b[0my_test_tree\u001b[0m\u001b[1;33m)\u001b[0m\u001b[1;33m\u001b[0m\u001b[1;33m\u001b[0m\u001b[0m\n\u001b[0;32m      4\u001b[0m \u001b[1;33m\u001b[0m\u001b[0m\n\u001b[0;32m      5\u001b[0m \u001b[0mprint\u001b[0m\u001b[1;33m(\u001b[0m\u001b[1;34m\"Decision Tree: Accuracy on training Data: {:.3f}\"\u001b[0m\u001b[1;33m.\u001b[0m\u001b[0mformat\u001b[0m\u001b[1;33m(\u001b[0m\u001b[0macc_train_tree\u001b[0m\u001b[1;33m)\u001b[0m\u001b[1;33m)\u001b[0m\u001b[1;33m\u001b[0m\u001b[1;33m\u001b[0m\u001b[0m\n",
      "\u001b[1;31mNameError\u001b[0m: name 'y_train_tree' is not defined"
     ]
    }
   ],
   "source": [
    "#computing the accuracy of the model performance\n",
    "acc_train_tree = accuracy_score(y_train,y_train_tree)\n",
    "acc_test_tree = accuracy_score(y_test,y_test_tree)\n",
    "\n",
    "print(\"Decision Tree: Accuracy on training Data: {:.3f}\".format(acc_train_tree))\n",
    "print(\"Decision Tree: Accuracy on test Data: {:.3f}\".format(acc_test_tree))"
   ]
  },
  {
   "cell_type": "code",
   "execution_count": null,
   "metadata": {},
   "outputs": [],
   "source": []
  }
 ],
 "metadata": {
  "kernelspec": {
   "display_name": "Python 3",
   "language": "python",
   "name": "python3"
  },
  "language_info": {
   "codemirror_mode": {
    "name": "ipython",
    "version": 3
   },
   "file_extension": ".py",
   "mimetype": "text/x-python",
   "name": "python",
   "nbconvert_exporter": "python",
   "pygments_lexer": "ipython3",
   "version": "3.7.4"
  }
 },
 "nbformat": 4,
 "nbformat_minor": 2
}
